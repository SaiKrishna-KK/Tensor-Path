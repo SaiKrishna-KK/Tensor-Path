{
  "nbformat": 4,
  "nbformat_minor": 0,
  "metadata": {
    "colab": {
      "name": "00_TensorFlow Fundamentals Exercises And Extra-Curriculum.ipynb",
      "provenance": []
    },
    "kernelspec": {
      "name": "python3",
      "display_name": "Python 3"
    },
    "language_info": {
      "name": "python"
    },
    "accelerator": "GPU",
    "gpuClass": "standard"
  },
  "cells": [
    {
      "cell_type": "markdown",
      "source": [
        "# Tensorflow Fundamentals Excercises"
      ],
      "metadata": {
        "id": "JlrlBTgdeAIs"
      }
    },
    {
      "cell_type": "markdown",
      "source": [
        "> **1. Create a vector, scalar, matrix and tensor with values of your choosing using ```tf.constant()```.**"
      ],
      "metadata": {
        "id": "w1dBsBmseiad"
      }
    },
    {
      "cell_type": "code",
      "source": [
        "import tensorflow as tf\n",
        "import numpy as np\n",
        "tf_vector = tf.constant([1,2,3,4])\n",
        "tf_scalar = tf.constant(2)\n",
        "tf_matrix = tf.constant(np.arange(0,9, dtype = np.int32), shape = (3,3))\n",
        "tf_tensor = tf.constant(np.random.randint(100, size = 24, dtype = np.int32), shape = (2,3,4))\n",
        "list_tensors = [tf_vector, tf_scalar, tf_matrix, tf_tensor]\n",
        "tf_vector, tf_scalar, tf_matrix, tf_tensor"
      ],
      "metadata": {
        "colab": {
          "base_uri": "https://localhost:8080/"
        },
        "id": "kkrTVtjuerSD",
        "outputId": "acb0eaab-6703-4942-8c2f-36859fc199a3"
      },
      "execution_count": 1,
      "outputs": [
        {
          "output_type": "execute_result",
          "data": {
            "text/plain": [
              "(<tf.Tensor: shape=(4,), dtype=int32, numpy=array([1, 2, 3, 4], dtype=int32)>,\n",
              " <tf.Tensor: shape=(), dtype=int32, numpy=2>,\n",
              " <tf.Tensor: shape=(3, 3), dtype=int32, numpy=\n",
              " array([[0, 1, 2],\n",
              "        [3, 4, 5],\n",
              "        [6, 7, 8]], dtype=int32)>,\n",
              " <tf.Tensor: shape=(2, 3, 4), dtype=int32, numpy=\n",
              " array([[[ 9,  7, 98, 82],\n",
              "         [ 9, 13, 85, 34],\n",
              "         [92, 89, 57, 31]],\n",
              " \n",
              "        [[16, 38, 73, 23],\n",
              "         [21, 66, 98, 18],\n",
              "         [51, 31, 26, 57]]], dtype=int32)>)"
            ]
          },
          "metadata": {},
          "execution_count": 1
        }
      ]
    },
    {
      "cell_type": "markdown",
      "source": [
        "> **2. Find the shape, rank and size of the tensors you created in 1.**"
      ],
      "metadata": {
        "id": "z3B8669cfWp7"
      }
    },
    {
      "cell_type": "code",
      "source": [
        "a = 1\n",
        "for i in list_tensors:\n",
        "  \n",
        "  print(f'Tensor{a} Shape: {i.shape}')\n",
        "  print(f'Tensor{a} Rank: {i.ndim}')\n",
        "  print(f'Tensor{a} Size: {tf.size(i)}\\n')\n",
        "  a= a+1\n"
      ],
      "metadata": {
        "colab": {
          "base_uri": "https://localhost:8080/"
        },
        "id": "hRM8q2dHf0Cw",
        "outputId": "df3f7a79-ccb7-4a4f-de95-22c1e6ae659b"
      },
      "execution_count": 2,
      "outputs": [
        {
          "output_type": "stream",
          "name": "stdout",
          "text": [
            "Tensor1 Shape: (4,)\n",
            "Tensor1 Rank: 1\n",
            "Tensor1 Size: 4\n",
            "\n",
            "Tensor2 Shape: ()\n",
            "Tensor2 Rank: 0\n",
            "Tensor2 Size: 1\n",
            "\n",
            "Tensor3 Shape: (3, 3)\n",
            "Tensor3 Rank: 2\n",
            "Tensor3 Size: 9\n",
            "\n",
            "Tensor4 Shape: (2, 3, 4)\n",
            "Tensor4 Rank: 3\n",
            "Tensor4 Size: 24\n",
            "\n"
          ]
        }
      ]
    },
    {
      "cell_type": "markdown",
      "source": [
        "> **3. Create two tensors containing random values between 0 and 1 with shape ```[5, 300].```**"
      ],
      "metadata": {
        "id": "0OTuxnPfgpmu"
      }
    },
    {
      "cell_type": "code",
      "source": [
        "tf_random_1 = tf.constant(np.random.randint(0,2, size = 5*300, dtype = np.int32), shape = (5,300))\n",
        "tf_random_2 = tf.constant(np.random.randint(0,2, size = 5*300, dtype = np.int32), shape = (5,300))\n",
        "\n",
        "tf_random_1, tf_random_2\n"
      ],
      "metadata": {
        "colab": {
          "base_uri": "https://localhost:8080/"
        },
        "id": "K_PR73vehB9z",
        "outputId": "3faef52c-30f6-4d3b-8eac-692abcde1c28"
      },
      "execution_count": 3,
      "outputs": [
        {
          "output_type": "execute_result",
          "data": {
            "text/plain": [
              "(<tf.Tensor: shape=(5, 300), dtype=int32, numpy=\n",
              " array([[0, 0, 0, ..., 0, 0, 0],\n",
              "        [1, 0, 0, ..., 1, 1, 1],\n",
              "        [0, 0, 0, ..., 1, 0, 0],\n",
              "        [0, 1, 0, ..., 0, 0, 0],\n",
              "        [1, 0, 0, ..., 0, 1, 0]], dtype=int32)>,\n",
              " <tf.Tensor: shape=(5, 300), dtype=int32, numpy=\n",
              " array([[0, 0, 1, ..., 1, 0, 1],\n",
              "        [1, 1, 1, ..., 1, 0, 1],\n",
              "        [1, 1, 0, ..., 1, 0, 0],\n",
              "        [1, 1, 1, ..., 1, 1, 1],\n",
              "        [1, 0, 1, ..., 0, 0, 0]], dtype=int32)>)"
            ]
          },
          "metadata": {},
          "execution_count": 3
        }
      ]
    },
    {
      "cell_type": "markdown",
      "source": [
        "> **4. Multiply the two tensors you created in 3 using matrix multiplication.**"
      ],
      "metadata": {
        "id": "2rcPCNdWiguY"
      }
    },
    {
      "cell_type": "code",
      "source": [
        "tf_matmul_12 = tf.matmul(tf_random_1, tf.transpose(tf_random_2))\n",
        "tf_matmul_12"
      ],
      "metadata": {
        "colab": {
          "base_uri": "https://localhost:8080/"
        },
        "id": "gYfEzexuhqy8",
        "outputId": "62b95640-0c9a-4cd6-fcc5-b3a25bdb70ed"
      },
      "execution_count": 4,
      "outputs": [
        {
          "output_type": "execute_result",
          "data": {
            "text/plain": [
              "<tf.Tensor: shape=(5, 5), dtype=int32, numpy=\n",
              "array([[86, 74, 71, 70, 74],\n",
              "       [82, 78, 76, 67, 70],\n",
              "       [73, 74, 60, 57, 61],\n",
              "       [77, 88, 69, 66, 64],\n",
              "       [88, 90, 85, 69, 79]], dtype=int32)>"
            ]
          },
          "metadata": {},
          "execution_count": 4
        }
      ]
    },
    {
      "cell_type": "markdown",
      "source": [
        "> **5. Multiply the two tensors you created in 3 using dot product.**"
      ],
      "metadata": {
        "id": "blmV6ZYKkOLh"
      }
    },
    {
      "cell_type": "code",
      "source": [
        "tf_dotproduct = tf.tensordot(tf_random_1, tf.transpose(tf_random_2), axes=1)\n",
        "tf_dotproduct"
      ],
      "metadata": {
        "colab": {
          "base_uri": "https://localhost:8080/"
        },
        "id": "cCVD5P6CkFDz",
        "outputId": "f562b7de-5644-47ec-da37-45124b4b67f2"
      },
      "execution_count": 11,
      "outputs": [
        {
          "output_type": "execute_result",
          "data": {
            "text/plain": [
              "<tf.Tensor: shape=(5, 5), dtype=int32, numpy=\n",
              "array([[86, 74, 71, 70, 74],\n",
              "       [82, 78, 76, 67, 70],\n",
              "       [73, 74, 60, 57, 61],\n",
              "       [77, 88, 69, 66, 64],\n",
              "       [88, 90, 85, 69, 79]], dtype=int32)>"
            ]
          },
          "metadata": {},
          "execution_count": 11
        }
      ]
    },
    {
      "cell_type": "markdown",
      "source": [
        "> **6. Create a tensor with random values between 0 and 1 with shape ```[224, 224, 3]```.**"
      ],
      "metadata": {
        "id": "NovLYihZksMe"
      }
    },
    {
      "cell_type": "code",
      "source": [
        "tf_random_3 = tf.constant(np.random.randint(0,2, size = 224*224*3, dtype = np.int32), shape = (224,224,3))\n",
        "tf_random_3\n"
      ],
      "metadata": {
        "id": "XxGqMdf6liFa"
      },
      "execution_count": null,
      "outputs": []
    },
    {
      "cell_type": "markdown",
      "source": [
        "> **7. Find the min and max values of the tensor you created in 6 along the first axis.**"
      ],
      "metadata": {
        "id": "akMk_BfYluj1"
      }
    },
    {
      "cell_type": "code",
      "source": [
        "tf.argmax(tf_random_3, axis=0)"
      ],
      "metadata": {
        "id": "x-AOVKXYl07h"
      },
      "execution_count": null,
      "outputs": []
    },
    {
      "cell_type": "code",
      "source": [
        "tf.argmin(tf_random_3)"
      ],
      "metadata": {
        "id": "_Pr0BY2Rp-hx"
      },
      "execution_count": null,
      "outputs": []
    },
    {
      "cell_type": "code",
      "source": [
        "tf_test = tf.constant([[[1,2,3], [4,5,6], [7,8,9]], [[11,0,31], [0,15,0], [0,81,0]]])\n",
        "tf_test"
      ],
      "metadata": {
        "colab": {
          "base_uri": "https://localhost:8080/"
        },
        "id": "UNPBkm5qmI_8",
        "outputId": "b981fc98-30ff-40de-dcfe-25bc07dedcb2"
      },
      "execution_count": 31,
      "outputs": [
        {
          "output_type": "execute_result",
          "data": {
            "text/plain": [
              "<tf.Tensor: shape=(2, 3, 3), dtype=int32, numpy=\n",
              "array([[[ 1,  2,  3],\n",
              "        [ 4,  5,  6],\n",
              "        [ 7,  8,  9]],\n",
              "\n",
              "       [[11,  0, 31],\n",
              "        [ 0, 15,  0],\n",
              "        [ 0, 81,  0]]], dtype=int32)>"
            ]
          },
          "metadata": {},
          "execution_count": 31
        }
      ]
    },
    {
      "cell_type": "code",
      "source": [
        "tf.argmax(tf_test), tf.argmax(tf_test, axis = 1)"
      ],
      "metadata": {
        "colab": {
          "base_uri": "https://localhost:8080/"
        },
        "id": "GKScxD3qmqYU",
        "outputId": "c18735d9-4d68-42cc-aedd-a624cf593d6c"
      },
      "execution_count": 28,
      "outputs": [
        {
          "output_type": "execute_result",
          "data": {
            "text/plain": [
              "(<tf.Tensor: shape=(3, 3), dtype=int64, numpy=\n",
              " array([[1, 0, 1],\n",
              "        [0, 1, 0],\n",
              "        [0, 1, 0]])>, <tf.Tensor: shape=(2, 3), dtype=int64, numpy=\n",
              " array([[2, 2, 2],\n",
              "        [0, 2, 0]])>)"
            ]
          },
          "metadata": {},
          "execution_count": 28
        }
      ]
    },
    {
      "cell_type": "markdown",
      "source": [
        "> **8. Created a tensor with random values of shape ```[1, 224, 224, 3]``` then squeeze it to change the shape to ```[224, 224, 3]```.**"
      ],
      "metadata": {
        "id": "JPLd5_XPngUD"
      }
    },
    {
      "cell_type": "code",
      "source": [
        "tf_random_4 = tf.constant(np.random.randint(0,2, size = 1*224*224*3, dtype = np.int32), shape = (1,224,224,3))\n",
        "tf_random_4.shape"
      ],
      "metadata": {
        "colab": {
          "base_uri": "https://localhost:8080/"
        },
        "id": "q6M8wOkZpvNn",
        "outputId": "c6e2a213-ba6c-4e9b-8c87-5419cf10baaf"
      },
      "execution_count": 36,
      "outputs": [
        {
          "output_type": "execute_result",
          "data": {
            "text/plain": [
              "TensorShape([1, 224, 224, 3])"
            ]
          },
          "metadata": {},
          "execution_count": 36
        }
      ]
    },
    {
      "cell_type": "code",
      "source": [
        "tf_random_4 = tf.squeeze(tf_random_4)\n",
        "tf_random_4"
      ],
      "metadata": {
        "id": "5xt6xyJHqMXO"
      },
      "execution_count": null,
      "outputs": []
    },
    {
      "cell_type": "markdown",
      "source": [
        "> **9. Create a tensor with shape ```[10]``` using your own choice of values, then find the index which has the maximum value.**"
      ],
      "metadata": {
        "id": "CEaDX_UQsAQv"
      }
    },
    {
      "cell_type": "code",
      "source": [
        "tf_random_5 = tf.constant(np.arange(1, 11, dtype=np.int32), shape= (10))"
      ],
      "metadata": {
        "id": "WpldgitosOQa"
      },
      "execution_count": 39,
      "outputs": []
    },
    {
      "cell_type": "markdown",
      "source": [
        "> **10. One-hot encode the tensor you created in 9.**"
      ],
      "metadata": {
        "id": "UGyYS_-6tjpx"
      }
    },
    {
      "cell_type": "code",
      "source": [
        "tf.one_hot(tf_random_5, depth=10, on_value=-1)"
      ],
      "metadata": {
        "colab": {
          "base_uri": "https://localhost:8080/"
        },
        "id": "h6y3puTEtMb_",
        "outputId": "4d7fa115-3119-434c-b122-448ff3589ee9"
      },
      "execution_count": 42,
      "outputs": [
        {
          "output_type": "execute_result",
          "data": {
            "text/plain": [
              "<tf.Tensor: shape=(10, 10), dtype=int32, numpy=\n",
              "array([[ 0, -1,  0,  0,  0,  0,  0,  0,  0,  0],\n",
              "       [ 0,  0, -1,  0,  0,  0,  0,  0,  0,  0],\n",
              "       [ 0,  0,  0, -1,  0,  0,  0,  0,  0,  0],\n",
              "       [ 0,  0,  0,  0, -1,  0,  0,  0,  0,  0],\n",
              "       [ 0,  0,  0,  0,  0, -1,  0,  0,  0,  0],\n",
              "       [ 0,  0,  0,  0,  0,  0, -1,  0,  0,  0],\n",
              "       [ 0,  0,  0,  0,  0,  0,  0, -1,  0,  0],\n",
              "       [ 0,  0,  0,  0,  0,  0,  0,  0, -1,  0],\n",
              "       [ 0,  0,  0,  0,  0,  0,  0,  0,  0, -1],\n",
              "       [ 0,  0,  0,  0,  0,  0,  0,  0,  0,  0]], dtype=int32)>"
            ]
          },
          "metadata": {},
          "execution_count": 42
        }
      ]
    },
    {
      "cell_type": "markdown",
      "source": [
        "# Tensorflow Fundamentals Extra-Curriculum"
      ],
      "metadata": {
        "id": "81GtHzhCtw8I"
      }
    },
    {
      "cell_type": "markdown",
      "source": [
        "> **1. Read through the list of TensorFlow Python APIs, pick one we haven't gone through in this notebook, reverse engineer it (write out the documentation code for yourself) and figure out what it does.**"
      ],
      "metadata": {
        "id": "7ZKIah9yt6g9"
      }
    },
    {
      "cell_type": "markdown",
      "source": [
        "> **2. Try to create a series of tensor functions to calculate your most recent grocery bill (it's okay if you don't use the names of the items, just the price in numerical form).\n",
        "How would you calculate your grocery bill for the month and for the year using tensors?**"
      ],
      "metadata": {
        "id": "C6j25MVcuCad"
      }
    },
    {
      "cell_type": "markdown",
      "source": [
        "> **3. Go through the TensorFlow 2.x quick start for beginners tutorial (be sure to type out all of the code yourself, even if you don't understand it).\n",
        "Are there any functions we used in here that match what's used in there? Which are the same? Which haven't you seen before?**"
      ],
      "metadata": {
        "id": "l4s8WhmquQrf"
      }
    }
  ]
}