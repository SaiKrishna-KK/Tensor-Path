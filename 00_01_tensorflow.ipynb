{
  "nbformat": 4,
  "nbformat_minor": 0,
  "metadata": {
    "colab": {
      "name": "00-01_tensorflow.ipynb",
      "provenance": [],
      "collapsed_sections": []
    },
    "kernelspec": {
      "name": "python3",
      "display_name": "Python 3"
    },
    "language_info": {
      "name": "python"
    },
    "accelerator": "GPU",
    "gpuClass": "standard"
  },
  "cells": [
    {
      "cell_type": "markdown",
      "source": [
        "# Continuation to the Introduction to the tensorflow notebook ```00-tensorflow.ipynb```.\n"
      ],
      "metadata": {
        "id": "Gvnv7M016THE"
      }
    },
    {
      "cell_type": "markdown",
      "source": [
        "###Turn NumPy arrays into tensors\n",
        "\n",
        "\n",
        "\n",
        "\n"
      ],
      "metadata": {
        "id": "QlrF2Bzz1wtx"
      }
    },
    {
      "cell_type": "code",
      "source": [
        "import tensorflow as tf\n",
        "import numpy as np\n",
        "numpy_A = np.arange(1,25, dtype = np.int32)\n",
        "numpy_A"
      ],
      "metadata": {
        "colab": {
          "base_uri": "https://localhost:8080/"
        },
        "id": "RYAwl2Lg25i1",
        "outputId": "ecd15cfa-98cd-452b-b33b-2a846f25b0f7"
      },
      "execution_count": 1,
      "outputs": [
        {
          "output_type": "execute_result",
          "data": {
            "text/plain": [
              "array([ 1,  2,  3,  4,  5,  6,  7,  8,  9, 10, 11, 12, 13, 14, 15, 16, 17,\n",
              "       18, 19, 20, 21, 22, 23, 24], dtype=int32)"
            ]
          },
          "metadata": {},
          "execution_count": 1
        }
      ]
    },
    {
      "cell_type": "code",
      "source": [
        "tf_numpy = tf.constant(numpy_A, shape=(2,3,4))\n",
        "tf_numpy"
      ],
      "metadata": {
        "colab": {
          "base_uri": "https://localhost:8080/"
        },
        "id": "7FXvtNZx4CPV",
        "outputId": "5889706f-6ab8-44ee-ea40-e91018fa3e43"
      },
      "execution_count": 2,
      "outputs": [
        {
          "output_type": "execute_result",
          "data": {
            "text/plain": [
              "<tf.Tensor: shape=(2, 3, 4), dtype=int32, numpy=\n",
              "array([[[ 1,  2,  3,  4],\n",
              "        [ 5,  6,  7,  8],\n",
              "        [ 9, 10, 11, 12]],\n",
              "\n",
              "       [[13, 14, 15, 16],\n",
              "        [17, 18, 19, 20],\n",
              "        [21, 22, 23, 24]]], dtype=int32)>"
            ]
          },
          "metadata": {},
          "execution_count": 2
        }
      ]
    },
    {
      "cell_type": "markdown",
      "source": [
        "Summary-1:\n",
        "* Numpy arrays can be directly be used to create tensors for various shapes.\n",
        "* ```tf.constant(numpy_array, shapes(=no.of elements of the array)```"
      ],
      "metadata": {
        "id": "xjsbJa2U4gCq"
      }
    },
    {
      "cell_type": "markdown",
      "source": [
        "##Getting information from the tensors"
      ],
      "metadata": {
        "id": "y3zPAnyY5RL6"
      }
    },
    {
      "cell_type": "code",
      "source": [
        "rank_4_tensor = tf.ones(shape=(2,3,4,5))\n",
        "rank_4_tensor"
      ],
      "metadata": {
        "id": "BRNNTRIF5ZBA",
        "colab": {
          "base_uri": "https://localhost:8080/"
        },
        "outputId": "e5eef041-9bf4-422b-aca4-78e91cbaef42"
      },
      "execution_count": 3,
      "outputs": [
        {
          "output_type": "execute_result",
          "data": {
            "text/plain": [
              "<tf.Tensor: shape=(2, 3, 4, 5), dtype=float32, numpy=\n",
              "array([[[[1., 1., 1., 1., 1.],\n",
              "         [1., 1., 1., 1., 1.],\n",
              "         [1., 1., 1., 1., 1.],\n",
              "         [1., 1., 1., 1., 1.]],\n",
              "\n",
              "        [[1., 1., 1., 1., 1.],\n",
              "         [1., 1., 1., 1., 1.],\n",
              "         [1., 1., 1., 1., 1.],\n",
              "         [1., 1., 1., 1., 1.]],\n",
              "\n",
              "        [[1., 1., 1., 1., 1.],\n",
              "         [1., 1., 1., 1., 1.],\n",
              "         [1., 1., 1., 1., 1.],\n",
              "         [1., 1., 1., 1., 1.]]],\n",
              "\n",
              "\n",
              "       [[[1., 1., 1., 1., 1.],\n",
              "         [1., 1., 1., 1., 1.],\n",
              "         [1., 1., 1., 1., 1.],\n",
              "         [1., 1., 1., 1., 1.]],\n",
              "\n",
              "        [[1., 1., 1., 1., 1.],\n",
              "         [1., 1., 1., 1., 1.],\n",
              "         [1., 1., 1., 1., 1.],\n",
              "         [1., 1., 1., 1., 1.]],\n",
              "\n",
              "        [[1., 1., 1., 1., 1.],\n",
              "         [1., 1., 1., 1., 1.],\n",
              "         [1., 1., 1., 1., 1.],\n",
              "         [1., 1., 1., 1., 1.]]]], dtype=float32)>"
            ]
          },
          "metadata": {},
          "execution_count": 3
        }
      ]
    },
    {
      "cell_type": "code",
      "source": [
        "print(f\"Datatype of the tensor elements: {rank_4_tensor.dtype}\")\n",
        "print(f'Number of Dimensions: {rank_4_tensor.ndim}')\n",
        "print(f'Shape of tensor:{rank_4_tensor.shape}')\n",
        "print(f'Elements along 0-axis: {rank_4_tensor.shape[0]}')\n",
        "print(f'Elements along last-axis: {rank_4_tensor.shape[-1]}')\n",
        "print(f'Total number of elements: {tf.size(rank_4_tensor)}')"
      ],
      "metadata": {
        "colab": {
          "base_uri": "https://localhost:8080/"
        },
        "id": "QPcFEPxfOnzW",
        "outputId": "2d73635b-7675-4351-961f-aadd98aaad46"
      },
      "execution_count": 4,
      "outputs": [
        {
          "output_type": "stream",
          "name": "stdout",
          "text": [
            "Datatype of the tensor elements: <dtype: 'float32'>\n",
            "Number of Dimensions: 4\n",
            "Shape of tensor:(2, 3, 4, 5)\n",
            "Elements along 0-axis: 2\n",
            "Elements along last-axis: 5\n",
            "Total number of elements: 120\n"
          ]
        }
      ]
    },
    {
      "cell_type": "markdown",
      "source": [
        "##Indexing Tensors\n",
        "It is similar to indexing lists"
      ],
      "metadata": {
        "id": "g92BSBwRTRVA"
      }
    },
    {
      "cell_type": "code",
      "source": [
        "rank_4_tensor[0,:2] "
      ],
      "metadata": {
        "id": "3hx34cM-QFrZ",
        "colab": {
          "base_uri": "https://localhost:8080/"
        },
        "outputId": "876d0c43-cbc3-4381-f7d0-9ce5de73865c"
      },
      "execution_count": 5,
      "outputs": [
        {
          "output_type": "execute_result",
          "data": {
            "text/plain": [
              "<tf.Tensor: shape=(2, 4, 5), dtype=float32, numpy=\n",
              "array([[[1., 1., 1., 1., 1.],\n",
              "        [1., 1., 1., 1., 1.],\n",
              "        [1., 1., 1., 1., 1.],\n",
              "        [1., 1., 1., 1., 1.]],\n",
              "\n",
              "       [[1., 1., 1., 1., 1.],\n",
              "        [1., 1., 1., 1., 1.],\n",
              "        [1., 1., 1., 1., 1.],\n",
              "        [1., 1., 1., 1., 1.]]], dtype=float32)>"
            ]
          },
          "metadata": {},
          "execution_count": 5
        }
      ]
    },
    {
      "cell_type": "code",
      "source": [
        "rank_3_tensor= [[[4,10],[10,1],[2,5]],[[4,10],[10,1],[2,5]]]\n",
        "rank_3_tensor= tf.constant(rank_3_tensor)\n",
        "rank_3_tensor, rank_3_tensor[:,2,-1]"
      ],
      "metadata": {
        "colab": {
          "base_uri": "https://localhost:8080/"
        },
        "id": "ln2umLgsU4fU",
        "outputId": "eb274107-1a3b-495a-fb05-17d10a5cd9fd"
      },
      "execution_count": 6,
      "outputs": [
        {
          "output_type": "execute_result",
          "data": {
            "text/plain": [
              "(<tf.Tensor: shape=(2, 3, 2), dtype=int32, numpy=\n",
              " array([[[ 4, 10],\n",
              "         [10,  1],\n",
              "         [ 2,  5]],\n",
              " \n",
              "        [[ 4, 10],\n",
              "         [10,  1],\n",
              "         [ 2,  5]]], dtype=int32)>,\n",
              " <tf.Tensor: shape=(2,), dtype=int32, numpy=array([5, 5], dtype=int32)>)"
            ]
          },
          "metadata": {},
          "execution_count": 6
        }
      ]
    },
    {
      "cell_type": "code",
      "source": [
        "rank_2_tensor= tf.constant([[4,10],[10,1],[2,5]])\n",
        "rank_2_tensor,rank_2_tensor[:,-1]"
      ],
      "metadata": {
        "colab": {
          "base_uri": "https://localhost:8080/"
        },
        "id": "GZqI0hvNWU84",
        "outputId": "61f88bc3-5478-4fab-b0a4-1718e849367b"
      },
      "execution_count": 7,
      "outputs": [
        {
          "output_type": "execute_result",
          "data": {
            "text/plain": [
              "(<tf.Tensor: shape=(3, 2), dtype=int32, numpy=\n",
              " array([[ 4, 10],\n",
              "        [10,  1],\n",
              "        [ 2,  5]], dtype=int32)>,\n",
              " <tf.Tensor: shape=(3,), dtype=int32, numpy=array([10,  1,  5], dtype=int32)>)"
            ]
          },
          "metadata": {},
          "execution_count": 7
        }
      ]
    },
    {
      "cell_type": "code",
      "source": [
        "rank_2_tensor_new = rank_2_tensor[..., tf.newaxis]\n",
        "rank_2_tensor_new"
      ],
      "metadata": {
        "colab": {
          "base_uri": "https://localhost:8080/"
        },
        "id": "Ck8TBIJPX2jF",
        "outputId": "4be886b0-284b-4872-ab47-b6ec5b6aae89"
      },
      "execution_count": 8,
      "outputs": [
        {
          "output_type": "execute_result",
          "data": {
            "text/plain": [
              "<tf.Tensor: shape=(3, 2, 1), dtype=int32, numpy=\n",
              "array([[[ 4],\n",
              "        [10]],\n",
              "\n",
              "       [[10],\n",
              "        [ 1]],\n",
              "\n",
              "       [[ 2],\n",
              "        [ 5]]], dtype=int32)>"
            ]
          },
          "metadata": {},
          "execution_count": 8
        }
      ]
    },
    {
      "cell_type": "code",
      "source": [
        "tf.expand_dims(rank_2_tensor, axis=-1) #\"-1 means the last axis and \"0\" means first aixs \""
      ],
      "metadata": {
        "colab": {
          "base_uri": "https://localhost:8080/"
        },
        "id": "yZw9VB5YYaaa",
        "outputId": "e281695b-958e-4b11-aee7-dfc2014cc018"
      },
      "execution_count": 9,
      "outputs": [
        {
          "output_type": "execute_result",
          "data": {
            "text/plain": [
              "<tf.Tensor: shape=(3, 2, 1), dtype=int32, numpy=\n",
              "array([[[ 4],\n",
              "        [10]],\n",
              "\n",
              "       [[10],\n",
              "        [ 1]],\n",
              "\n",
              "       [[ 2],\n",
              "        [ 5]]], dtype=int32)>"
            ]
          },
          "metadata": {},
          "execution_count": 9
        }
      ]
    },
    {
      "cell_type": "markdown",
      "source": [
        "Summary-2\n",
        "* Here, I understood how to analyse the datatype of the elements in the tensor, dimensions of the tensor and its shape.\n",
        "* This information is crucial for the analysis of the dataset, and change the shape of the data set according to the model that is being implemented.\n",
        "* Indexing the tensors is very similar to indexing the lists. Similar, concept but multiple dimensions are added.\n",
        "* Just remember how the shape works, then you will understand how to slice the tensor according to your need.\n",
        "* Apart from slicing, new dimensions can be added to the tensors or these tensor's dimensions can be expanded based on the axis info.\n",
        "* ```tensorName[...,tf.newaxis]``` or ```tf.expand_dims(tensorName,axis= {0 or -1})```"
      ],
      "metadata": {
        "id": "v9ga-DsQSnjT"
      }
    },
    {
      "cell_type": "markdown",
      "source": [
        "#Manipulating Tensors (tensor operations)\n",
        "**Basic Operations**\n",
        "\n",
        "```+,-,*,/```"
      ],
      "metadata": {
        "id": "rHFXfKcyUJXV"
      }
    },
    {
      "cell_type": "code",
      "source": [
        " tensor_math = tf.constant([[1,3],[1,5]])\n",
        " tensor_math"
      ],
      "metadata": {
        "colab": {
          "base_uri": "https://localhost:8080/"
        },
        "id": "TCFOu8qhZ8ev",
        "outputId": "c6adc63c-909b-4ecf-82c6-50c608583f44"
      },
      "execution_count": 10,
      "outputs": [
        {
          "output_type": "execute_result",
          "data": {
            "text/plain": [
              "<tf.Tensor: shape=(2, 2), dtype=int32, numpy=\n",
              "array([[1, 3],\n",
              "       [1, 5]], dtype=int32)>"
            ]
          },
          "metadata": {},
          "execution_count": 10
        }
      ]
    },
    {
      "cell_type": "code",
      "source": [
        "tensor_math+10, tensor_math-10, tensor_math *10, tensor_math /10 #the only default with this method is that, when considered large datasets they will be inmplemented using CPU"
      ],
      "metadata": {
        "colab": {
          "base_uri": "https://localhost:8080/"
        },
        "id": "QKKtSxzmgSvG",
        "outputId": "796d8136-1575-4de9-e924-b89873cd82d9"
      },
      "execution_count": 11,
      "outputs": [
        {
          "output_type": "execute_result",
          "data": {
            "text/plain": [
              "(<tf.Tensor: shape=(2, 2), dtype=int32, numpy=\n",
              " array([[11, 13],\n",
              "        [11, 15]], dtype=int32)>, <tf.Tensor: shape=(2, 2), dtype=int32, numpy=\n",
              " array([[-9, -7],\n",
              "        [-9, -5]], dtype=int32)>, <tf.Tensor: shape=(2, 2), dtype=int32, numpy=\n",
              " array([[10, 30],\n",
              "        [10, 50]], dtype=int32)>, <tf.Tensor: shape=(2, 2), dtype=float64, numpy=\n",
              " array([[0.1, 0.3],\n",
              "        [0.1, 0.5]])>)"
            ]
          },
          "metadata": {},
          "execution_count": 11
        }
      ]
    },
    {
      "cell_type": "code",
      "source": [
        "tf.math.add(tensor_math, 10), tf.math.multiply(tensor_math, 10), tf.math.subtract(tensor_math, 10), tf.math.divide(tensor_math, 10)"
      ],
      "metadata": {
        "colab": {
          "base_uri": "https://localhost:8080/"
        },
        "id": "H4hvZT4Ugdke",
        "outputId": "01c5aa86-a534-466f-cf7d-771e9119447a"
      },
      "execution_count": 12,
      "outputs": [
        {
          "output_type": "execute_result",
          "data": {
            "text/plain": [
              "(<tf.Tensor: shape=(2, 2), dtype=int32, numpy=\n",
              " array([[11, 13],\n",
              "        [11, 15]], dtype=int32)>, <tf.Tensor: shape=(2, 2), dtype=int32, numpy=\n",
              " array([[10, 30],\n",
              "        [10, 50]], dtype=int32)>, <tf.Tensor: shape=(2, 2), dtype=int32, numpy=\n",
              " array([[-9, -7],\n",
              "        [-9, -5]], dtype=int32)>, <tf.Tensor: shape=(2, 2), dtype=float64, numpy=\n",
              " array([[0.1, 0.3],\n",
              "        [0.1, 0.5]])>)"
            ]
          },
          "metadata": {},
          "execution_count": 12
        }
      ]
    },
    {
      "cell_type": "code",
      "source": [
        "tensor_math = tf.cast(tensor_math, dtype=\"float32\")\n",
        "tf.sqrt(tensor_math)"
      ],
      "metadata": {
        "colab": {
          "base_uri": "https://localhost:8080/"
        },
        "id": "_TXlQ3Tdg_RY",
        "outputId": "23575e78-3f53-4c18-e13c-732e2b11f792"
      },
      "execution_count": 13,
      "outputs": [
        {
          "output_type": "execute_result",
          "data": {
            "text/plain": [
              "<tf.Tensor: shape=(2, 2), dtype=float32, numpy=\n",
              "array([[1.       , 1.7320508],\n",
              "       [1.       , 2.2360678]], dtype=float32)>"
            ]
          },
          "metadata": {},
          "execution_count": 13
        }
      ]
    },
    {
      "cell_type": "markdown",
      "source": [
        "Summary-3\n",
        "> Tensors can be manipulated in two ways.\n",
        "* Conventional way ```tensorName+num``` or any mathematical operation. But only CPU will be used in this operations and for large datasets this will not be feasible.\n",
        "* Hence, using ```tf.math``` will perform these operations using GPU. So, prefer using them when implementing on a large dataset."
      ],
      "metadata": {
        "id": "BSi_Mj8IhVnY"
      }
    },
    {
      "cell_type": "markdown",
      "source": [
        "##Matrix Multiplication\n",
        " **Most common multiplication**"
      ],
      "metadata": {
        "id": "jAqHrDIRiQSA"
      }
    },
    {
      "cell_type": "code",
      "source": [
        " tensor_matmul = tf.random.Generator.from_seed(42)\n",
        " tensor_matmul_1 = tf.cast(tensor_matmul.normal(shape=(2,3)), dtype='int32')\n",
        " tensor_matmul_2 = tf.cast(tensor_matmul.normal(shape=(3,2)), dtype='int32')\n",
        " tf.matmul(tensor_matmul_1, tensor_matmul_2)\n"
      ],
      "metadata": {
        "colab": {
          "base_uri": "https://localhost:8080/"
        },
        "id": "VXJSzpIQiWpC",
        "outputId": "2c28317b-de48-44e1-c0ef-078b6b7d4016"
      },
      "execution_count": 14,
      "outputs": [
        {
          "output_type": "execute_result",
          "data": {
            "text/plain": [
              "<tf.Tensor: shape=(2, 2), dtype=int32, numpy=\n",
              "array([[0, 0],\n",
              "       [0, 0]], dtype=int32)>"
            ]
          },
          "metadata": {},
          "execution_count": 14
        }
      ]
    },
    {
      "cell_type": "code",
      "source": [
        "numpy_b = np.random.randint(10,size= 9)\n",
        "numpy_c = np.random.randint(10, size=6)\n",
        "tens_b = tf.constant(numpy_b, shape=(3,3))\n",
        "tens_c = tf.constant(numpy_c, shape=(2,3))\n",
        "tens_b, tens_c\n"
      ],
      "metadata": {
        "colab": {
          "base_uri": "https://localhost:8080/"
        },
        "id": "82FrczGMxLHW",
        "outputId": "76344a26-6eac-4a27-a700-1669c1f23424"
      },
      "execution_count": 15,
      "outputs": [
        {
          "output_type": "execute_result",
          "data": {
            "text/plain": [
              "(<tf.Tensor: shape=(3, 3), dtype=int64, numpy=\n",
              " array([[0, 1, 1],\n",
              "        [5, 8, 4],\n",
              "        [6, 3, 1]])>, <tf.Tensor: shape=(2, 3), dtype=int64, numpy=\n",
              " array([[4, 3, 7],\n",
              "        [9, 7, 4]])>)"
            ]
          },
          "metadata": {},
          "execution_count": 15
        }
      ]
    },
    {
      "cell_type": "code",
      "source": [
        "tf_mul= tf.matmul(tens_c, tens_b)\n"
      ],
      "metadata": {
        "id": "cJ4UTlnUNhph"
      },
      "execution_count": 16,
      "outputs": []
    },
    {
      "cell_type": "code",
      "source": [
        "tf_mul,tf.transpose(tf_mul)"
      ],
      "metadata": {
        "colab": {
          "base_uri": "https://localhost:8080/"
        },
        "id": "PYwi3Xq0PCrk",
        "outputId": "e074a043-cb58-40ed-c2de-d74f2197ab8d"
      },
      "execution_count": 17,
      "outputs": [
        {
          "output_type": "execute_result",
          "data": {
            "text/plain": [
              "(<tf.Tensor: shape=(2, 3), dtype=int64, numpy=\n",
              " array([[57, 49, 23],\n",
              "        [59, 77, 41]])>, <tf.Tensor: shape=(3, 2), dtype=int64, numpy=\n",
              " array([[57, 59],\n",
              "        [49, 77],\n",
              "        [23, 41]])>)"
            ]
          },
          "metadata": {},
          "execution_count": 17
        }
      ]
    },
    {
      "cell_type": "markdown",
      "source": [
        "Summary of Matrix Multiplicaton\n",
        "* Always keep track of the size of matrices. Matrix of size ```3 x 3``` and ```2 x 3 ``` are not eligible to perform the operation because the size of the matrix B which is in the form ```a x b``` that is being multiplied with the matrix C which is in the form ```c x d```(matB x matC), should always follow ```a <= c```.\n",
        "\n",
        "* Use ```tf.matmul()``` to use GPU for large scale operations.\n",
        "* If the matrix dimensions are needed to be reshaped use ```tf.reshape(tensorName, shape=(a,b))```. \n",
        "* But tf.reshape does a random reshaping, but transpose just flips the access. \n",
        "* ```tf.tensordot()``` is another way of matrix multiplication. But works with both scalar and matrix quantities.\n",
        "* ```tf.cast(tensorName, dtype = 'int16')``` is used to change the data type of the tensor. By default tensorflow runs on **32 bit precision**."
      ],
      "metadata": {
        "id": "m2awig_4NpJI"
      }
    },
    {
      "cell_type": "markdown",
      "source": [
        "## Aggregation of tensors\n",
        "\n",
        "Aggregation is nothing but reducing the large values to simpler values, that will help in analysis of the given tensors. \n",
        "**Example: Sum, min, max and etc., **\n"
      ],
      "metadata": {
        "id": "1LfLlSUmfWdG"
      }
    },
    {
      "cell_type": "code",
      "source": [
        "tf_agg_A = tf.constant(np.random.randint(1000, size=50))\n",
        "tf_agg_B = tf.constant(np.random.randint(500, 1000, size = 50), shape = (2,25))\n",
        "tf_agg_A, tf_agg_B"
      ],
      "metadata": {
        "colab": {
          "base_uri": "https://localhost:8080/"
        },
        "id": "WBEH-yN1jTOQ",
        "outputId": "4344c59e-c0c7-4b34-de79-899ef413120b"
      },
      "execution_count": 18,
      "outputs": [
        {
          "output_type": "execute_result",
          "data": {
            "text/plain": [
              "(<tf.Tensor: shape=(50,), dtype=int64, numpy=\n",
              " array([581, 996, 713, 205, 346, 805, 188, 604, 262, 926, 452, 342, 198,\n",
              "        711, 779,   1, 569, 858, 123, 853, 804, 240,  59, 427, 183, 398,\n",
              "        742, 416, 277, 976, 330, 999, 577, 651, 758, 710, 899, 573, 574,\n",
              "         50, 764, 895,  23, 704, 246,  70, 416, 334, 435,  83])>,\n",
              " <tf.Tensor: shape=(2, 25), dtype=int64, numpy=\n",
              " array([[528, 868, 599, 847, 795, 910, 927, 584, 708, 881, 755, 847, 669,\n",
              "         506, 574, 887, 725, 647, 621, 626, 634, 548, 580, 718, 744],\n",
              "        [751, 650, 952, 516, 679, 503, 625, 593, 799, 871, 793, 784, 868,\n",
              "         628, 808, 534, 733, 752, 894, 663, 857, 650, 735, 935, 541]])>)"
            ]
          },
          "metadata": {},
          "execution_count": 18
        }
      ]
    },
    {
      "cell_type": "code",
      "source": [
        "tf.reduce_max(tf_agg_A), tf.reduce_max(tf_agg_B)"
      ],
      "metadata": {
        "colab": {
          "base_uri": "https://localhost:8080/"
        },
        "id": "Nsi8fDSxj7-1",
        "outputId": "85dca387-0d86-43da-8605-852b2e796dcf"
      },
      "execution_count": 19,
      "outputs": [
        {
          "output_type": "execute_result",
          "data": {
            "text/plain": [
              "(<tf.Tensor: shape=(), dtype=int64, numpy=999>,\n",
              " <tf.Tensor: shape=(), dtype=int64, numpy=952>)"
            ]
          },
          "metadata": {},
          "execution_count": 19
        }
      ]
    },
    {
      "cell_type": "code",
      "source": [
        "tf.reduce_min(tf_agg_A), tf.reduce_min(tf_agg_B)"
      ],
      "metadata": {
        "colab": {
          "base_uri": "https://localhost:8080/"
        },
        "id": "PKDu5Xnckk2-",
        "outputId": "944e7a63-eeb6-481a-f0d5-60cde5f9d2eb"
      },
      "execution_count": 20,
      "outputs": [
        {
          "output_type": "execute_result",
          "data": {
            "text/plain": [
              "(<tf.Tensor: shape=(), dtype=int64, numpy=1>,\n",
              " <tf.Tensor: shape=(), dtype=int64, numpy=503>)"
            ]
          },
          "metadata": {},
          "execution_count": 20
        }
      ]
    },
    {
      "cell_type": "code",
      "source": [
        "tf.reduce_sum(tf_agg_A), tf.reduce_sum(tf_agg_B)"
      ],
      "metadata": {
        "colab": {
          "base_uri": "https://localhost:8080/"
        },
        "id": "TOjLtkBOkqfq",
        "outputId": "bd89af68-bc5a-4a74-8ff6-532bdd64d717"
      },
      "execution_count": 21,
      "outputs": [
        {
          "output_type": "execute_result",
          "data": {
            "text/plain": [
              "(<tf.Tensor: shape=(), dtype=int64, numpy=25125>,\n",
              " <tf.Tensor: shape=(), dtype=int64, numpy=35842>)"
            ]
          },
          "metadata": {},
          "execution_count": 21
        }
      ]
    },
    {
      "cell_type": "code",
      "source": [
        "tf.reduce_mean(tf_agg_A), tf.reduce_mean(tf_agg_B)"
      ],
      "metadata": {
        "colab": {
          "base_uri": "https://localhost:8080/"
        },
        "id": "hHmHkYXukt-Q",
        "outputId": "1b6f5e65-181c-40eb-8fc4-cdf2c31da455"
      },
      "execution_count": 22,
      "outputs": [
        {
          "output_type": "execute_result",
          "data": {
            "text/plain": [
              "(<tf.Tensor: shape=(), dtype=int64, numpy=502>,\n",
              " <tf.Tensor: shape=(), dtype=int64, numpy=716>)"
            ]
          },
          "metadata": {},
          "execution_count": 22
        }
      ]
    },
    {
      "cell_type": "code",
      "source": [
        "tf.math.reduce_variance(tf.cast(tf_agg_A, dtype = 'float32')), tf.math.reduce_variance(tf.cast(tf_agg_B, dtype = 'float32'))"
      ],
      "metadata": {
        "colab": {
          "base_uri": "https://localhost:8080/"
        },
        "id": "lZThsm44kxLn",
        "outputId": "c7927b4e-100e-4667-f80a-08b0f6999e5e"
      },
      "execution_count": 23,
      "outputs": [
        {
          "output_type": "execute_result",
          "data": {
            "text/plain": [
              "(<tf.Tensor: shape=(), dtype=float32, numpy=85932.61>,\n",
              " <tf.Tensor: shape=(), dtype=float32, numpy=16751.174>)"
            ]
          },
          "metadata": {},
          "execution_count": 23
        }
      ]
    },
    {
      "cell_type": "code",
      "source": [
        "tf.math.reduce_std(tf.cast(tf_agg_A, dtype = 'float32')), tf.math.reduce_std(tf.cast(tf_agg_B, dtype = 'float32'))"
      ],
      "metadata": {
        "colab": {
          "base_uri": "https://localhost:8080/"
        },
        "id": "vJ2wTG2pk3pv",
        "outputId": "16ae0082-0a22-4ab5-8f05-5bd82e62d714"
      },
      "execution_count": 24,
      "outputs": [
        {
          "output_type": "execute_result",
          "data": {
            "text/plain": [
              "(<tf.Tensor: shape=(), dtype=float32, numpy=293.14264>,\n",
              " <tf.Tensor: shape=(), dtype=float32, numpy=129.42633>)"
            ]
          },
          "metadata": {},
          "execution_count": 24
        }
      ]
    },
    {
      "cell_type": "markdown",
      "source": [
        "Summary-4\n",
        "* ```tf.reduce_{min,max,sum, mean, prod}(tensorName)``` will directly return the respected aggregated value.\n",
        "* In case of variance and standard deviation ```tf.math.reduce_variance(tensorName)``` and ```tf.math.reduce_std(tensorName)``` should be used. And these operations require only real or complex numbers **not int**."
      ],
      "metadata": {
        "id": "748iEs2mlwLZ"
      }
    },
    {
      "cell_type": "markdown",
      "source": [
        "**ArgMax and ArgMin**\n",
        "Returns the index having the maximum and minimum values respectively."
      ],
      "metadata": {
        "id": "bdIJ9jTAx_TQ"
      }
    },
    {
      "cell_type": "code",
      "source": [
        "tf_agg_B"
      ],
      "metadata": {
        "colab": {
          "base_uri": "https://localhost:8080/"
        },
        "id": "C3xWF9oBmD8d",
        "outputId": "7c5af873-1f8b-4467-b63b-bfb857d2d530"
      },
      "execution_count": 25,
      "outputs": [
        {
          "output_type": "execute_result",
          "data": {
            "text/plain": [
              "<tf.Tensor: shape=(2, 25), dtype=int64, numpy=\n",
              "array([[528, 868, 599, 847, 795, 910, 927, 584, 708, 881, 755, 847, 669,\n",
              "        506, 574, 887, 725, 647, 621, 626, 634, 548, 580, 718, 744],\n",
              "       [751, 650, 952, 516, 679, 503, 625, 593, 799, 871, 793, 784, 868,\n",
              "        628, 808, 534, 733, 752, 894, 663, 857, 650, 735, 935, 541]])>"
            ]
          },
          "metadata": {},
          "execution_count": 25
        }
      ]
    },
    {
      "cell_type": "code",
      "source": [
        "tf_agg_A[tf.argmax(tf_agg_A)]"
      ],
      "metadata": {
        "colab": {
          "base_uri": "https://localhost:8080/"
        },
        "id": "JnxZmaZPvgyG",
        "outputId": "9f6b4ce4-9b51-4c7a-8146-fe83bb64536b"
      },
      "execution_count": 26,
      "outputs": [
        {
          "output_type": "execute_result",
          "data": {
            "text/plain": [
              "<tf.Tensor: shape=(), dtype=int64, numpy=999>"
            ]
          },
          "metadata": {},
          "execution_count": 26
        }
      ]
    },
    {
      "cell_type": "code",
      "source": [
        "tf_arg_A = tf.constant([[2,3,2], [1,5,4]])\n",
        "tf_arg_A, tf.argmax(tf_arg_A)"
      ],
      "metadata": {
        "colab": {
          "base_uri": "https://localhost:8080/"
        },
        "id": "53G1o40ovphm",
        "outputId": "11147f6d-9c37-4acc-e589-dd073a535e01"
      },
      "execution_count": 27,
      "outputs": [
        {
          "output_type": "execute_result",
          "data": {
            "text/plain": [
              "(<tf.Tensor: shape=(2, 3), dtype=int32, numpy=\n",
              " array([[2, 3, 2],\n",
              "        [1, 5, 4]], dtype=int32)>,\n",
              " <tf.Tensor: shape=(3,), dtype=int64, numpy=array([0, 1, 1])>)"
            ]
          },
          "metadata": {},
          "execution_count": 27
        }
      ]
    },
    {
      "cell_type": "code",
      "source": [
        "tf_test_squeeze = tf.constant(np.random.randint(10, size=10), shape=(1,1,1,1,2,5))\n",
        "tf_test_squeeze"
      ],
      "metadata": {
        "colab": {
          "base_uri": "https://localhost:8080/"
        },
        "id": "qLUg3xOMyjkw",
        "outputId": "d830675b-bd8d-4372-f644-d8cbfe0592a7"
      },
      "execution_count": 28,
      "outputs": [
        {
          "output_type": "execute_result",
          "data": {
            "text/plain": [
              "<tf.Tensor: shape=(1, 1, 1, 1, 2, 5), dtype=int64, numpy=\n",
              "array([[[[[[2, 0, 8, 4, 9],\n",
              "           [5, 8, 9, 6, 1]]]]]])>"
            ]
          },
          "metadata": {},
          "execution_count": 28
        }
      ]
    },
    {
      "cell_type": "code",
      "source": [
        "tf_squeezed = tf.squeeze(tf_test_squeeze)\n",
        "tf_squeezed"
      ],
      "metadata": {
        "colab": {
          "base_uri": "https://localhost:8080/"
        },
        "id": "Hiu0VNnpzZY3",
        "outputId": "efc3bb94-798e-49de-9769-0d5515c8b813"
      },
      "execution_count": 29,
      "outputs": [
        {
          "output_type": "execute_result",
          "data": {
            "text/plain": [
              "<tf.Tensor: shape=(2, 5), dtype=int64, numpy=\n",
              "array([[2, 0, 8, 4, 9],\n",
              "       [5, 8, 9, 6, 1]])>"
            ]
          },
          "metadata": {},
          "execution_count": 29
        }
      ]
    },
    {
      "cell_type": "markdown",
      "source": [
        "**Summary for ArgMax & ArgMin and ```tf.squeeze(tensorName)```**\n",
        "* ```tf.argmax()``` and ```tf.argmin``` returns the index of maximum and minimum elements from the tensor based on the column comparisions.\n",
        "* ```tf.squeeze()``` is used to remove all the dimensions=1 from the tensor. "
      ],
      "metadata": {
        "id": "LobtXmdgv8Nd"
      }
    },
    {
      "cell_type": "markdown",
      "source": [
        "## One-Hot encoding\n",
        "This is used to label the data into numbers that will help the neural network to comprehend the distinguishing pattern between the data elements of classes."
      ],
      "metadata": {
        "id": "o7e_C-iCwj97"
      }
    },
    {
      "cell_type": "code",
      "source": [
        "lis_A = [1, 2, 3]\n",
        "tf.one_hot(lis_A, depth = 10, on_value= 10, off_value= -1) #on and off values are just used to make customised distinction. Else set them as None."
      ],
      "metadata": {
        "colab": {
          "base_uri": "https://localhost:8080/"
        },
        "id": "mXtkxdfr1VFh",
        "outputId": "032dc56a-9ce5-4068-feea-035784c4a84b"
      },
      "execution_count": 30,
      "outputs": [
        {
          "output_type": "execute_result",
          "data": {
            "text/plain": [
              "<tf.Tensor: shape=(3, 10), dtype=int32, numpy=\n",
              "array([[-1, 10, -1, -1, -1, -1, -1, -1, -1, -1],\n",
              "       [-1, -1, 10, -1, -1, -1, -1, -1, -1, -1],\n",
              "       [-1, -1, -1, 10, -1, -1, -1, -1, -1, -1]], dtype=int32)>"
            ]
          },
          "metadata": {},
          "execution_count": 30
        }
      ]
    },
    {
      "cell_type": "markdown",
      "source": [
        "# Interaction between Tensorflow and Numpy\n",
        "* Both tensorflow and numpy interact very efficiently with each other. \n",
        "* But the only difference is that, tensors created using numpy ```tf.constant(np.array[])``` will have a default 64 bit precision, where as tensors created directly by ```tf.constant([])``` has a 32 bit precision.  "
      ],
      "metadata": {
        "id": "n-yKxlH31inV"
      }
    },
    {
      "cell_type": "code",
      "source": [
        "tf.config.list_physical_devices()"
      ],
      "metadata": {
        "colab": {
          "base_uri": "https://localhost:8080/"
        },
        "id": "6TjJD77n5I80",
        "outputId": "5dd90ed1-f9ef-4a94-ff84-cd4aa140bedd"
      },
      "execution_count": 31,
      "outputs": [
        {
          "output_type": "execute_result",
          "data": {
            "text/plain": [
              "[PhysicalDevice(name='/physical_device:CPU:0', device_type='CPU'),\n",
              " PhysicalDevice(name='/physical_device:GPU:0', device_type='GPU')]"
            ]
          },
          "metadata": {},
          "execution_count": 31
        }
      ]
    },
    {
      "cell_type": "code",
      "source": [
        "!nvidia-smi"
      ],
      "metadata": {
        "colab": {
          "base_uri": "https://localhost:8080/"
        },
        "id": "0R7mxsOy5Si-",
        "outputId": "261848e6-08b5-4bd0-cad0-d6fe40b49167"
      },
      "execution_count": 33,
      "outputs": [
        {
          "output_type": "stream",
          "name": "stdout",
          "text": [
            "Sat Jun 25 22:07:09 2022       \n",
            "+-----------------------------------------------------------------------------+\n",
            "| NVIDIA-SMI 460.32.03    Driver Version: 460.32.03    CUDA Version: 11.2     |\n",
            "|-------------------------------+----------------------+----------------------+\n",
            "| GPU  Name        Persistence-M| Bus-Id        Disp.A | Volatile Uncorr. ECC |\n",
            "| Fan  Temp  Perf  Pwr:Usage/Cap|         Memory-Usage | GPU-Util  Compute M. |\n",
            "|                               |                      |               MIG M. |\n",
            "|===============================+======================+======================|\n",
            "|   0  Tesla T4            Off  | 00000000:00:04.0 Off |                    0 |\n",
            "| N/A   52C    P0    27W /  70W |    266MiB / 15109MiB |      0%      Default |\n",
            "|                               |                      |                  N/A |\n",
            "+-------------------------------+----------------------+----------------------+\n",
            "                                                                               \n",
            "+-----------------------------------------------------------------------------+\n",
            "| Processes:                                                                  |\n",
            "|  GPU   GI   CI        PID   Type   Process name                  GPU Memory |\n",
            "|        ID   ID                                                   Usage      |\n",
            "|=============================================================================|\n",
            "+-----------------------------------------------------------------------------+\n"
          ]
        }
      ]
    },
    {
      "cell_type": "markdown",
      "source": [
        ">**If the notebook has GPU access, tensorflow uses the GPU whenever possible.**"
      ],
      "metadata": {
        "id": "P7qFx0VD54kw"
      }
    }
  ]
}