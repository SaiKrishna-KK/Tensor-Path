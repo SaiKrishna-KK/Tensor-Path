{
  "nbformat": 4,
  "nbformat_minor": 0,
  "metadata": {
    "colab": {
      "name": "00_tensorflow.ipynb",
      "provenance": []
    },
    "kernelspec": {
      "name": "python3",
      "display_name": "Python 3"
    },
    "language_info": {
      "name": "python"
    }
  },
  "cells": [
    {
      "cell_type": "markdown",
      "source": [
        "# Basics of Tensorflow.\n",
        "\n",
        "This notebook covers:\n",
        "* Introduction to tensors\n",
        "* Getting information from tensors\n",
        "* Manipulating tensors\n",
        "* Tensors and NumPy\n",
        "* Using @tf.function( to speed up the python functions)\n",
        "* Usings GPUs and TPUs\n",
        "\n",
        "\n",
        "\n"
      ],
      "metadata": {
        "id": "cgTghJ2qN53W"
      }
    },
    {
      "cell_type": "markdown",
      "source": [
        "##Introduction to Tensors\n",
        "A tensor is nothing but a description vector of an object. It can be in the form of an array or a matrix."
      ],
      "metadata": {
        "id": "QeBBOSB3Dg_M"
      }
    },
    {
      "cell_type": "code",
      "source": [
        "import tensorflow as tf\n",
        "print(tf.__version__)"
      ],
      "metadata": {
        "colab": {
          "base_uri": "https://localhost:8080/"
        },
        "id": "naZwgdBJRNjE",
        "outputId": "decb60f6-0d5b-40d1-f6cc-3ca8e9213233"
      },
      "execution_count": null,
      "outputs": [
        {
          "output_type": "stream",
          "name": "stdout",
          "text": [
            "2.8.2\n"
          ]
        }
      ]
    },
    {
      "cell_type": "markdown",
      "source": [
        "####Creating tensors using tf.constant"
      ],
      "metadata": {
        "id": "bav8BoxdbO5y"
      }
    },
    {
      "cell_type": "code",
      "source": [
        "scalar = tf.constant(7)\n",
        "print(scalar)\n",
        "print(scalar.ndim)"
      ],
      "metadata": {
        "colab": {
          "base_uri": "https://localhost:8080/"
        },
        "id": "xJ8WwaiETy1i",
        "outputId": "be2a81ac-f4cf-42f4-82f9-90f59efabc75"
      },
      "execution_count": null,
      "outputs": [
        {
          "output_type": "stream",
          "name": "stdout",
          "text": [
            "tf.Tensor(7, shape=(), dtype=int32)\n",
            "0\n"
          ]
        }
      ]
    },
    {
      "cell_type": "code",
      "source": [
        "vector = tf.constant([2,2])\n",
        "print(vector)\n",
        "print(vector.ndim)"
      ],
      "metadata": {
        "colab": {
          "base_uri": "https://localhost:8080/"
        },
        "id": "SJxs-2MqUAp-",
        "outputId": "ce7e0ad7-aaf3-46e6-9ed6-6696c084c078"
      },
      "execution_count": null,
      "outputs": [
        {
          "output_type": "stream",
          "name": "stdout",
          "text": [
            "tf.Tensor([2 2], shape=(2,), dtype=int32)\n",
            "1\n"
          ]
        }
      ]
    },
    {
      "cell_type": "code",
      "source": [
        "matrix = tf.constant([[2,2,3],\n",
        "                      [3,3,4], \n",
        "                      [1,2,3]])\n",
        "print(matrix)\n",
        "print(matrix.ndim)"
      ],
      "metadata": {
        "colab": {
          "base_uri": "https://localhost:8080/"
        },
        "id": "svC0dS0OUHbt",
        "outputId": "548d83eb-1858-48e4-ff5d-300e93340b4e"
      },
      "execution_count": null,
      "outputs": [
        {
          "output_type": "stream",
          "name": "stdout",
          "text": [
            "tf.Tensor(\n",
            "[[2 2 3]\n",
            " [3 3 4]\n",
            " [1 2 3]], shape=(3, 3), dtype=int32)\n",
            "2\n"
          ]
        }
      ]
    },
    {
      "cell_type": "code",
      "source": [
        "another_matrix = tf.constant([[[1,1,1],\n",
        "                               [1,1,1]],\n",
        "                              [[2,2,2],\n",
        "                              [2,2,2]]], dtype=tf.float16)\n",
        "print(another_matrix)\n",
        "print(another_matrix.ndim)"
      ],
      "metadata": {
        "colab": {
          "base_uri": "https://localhost:8080/"
        },
        "id": "vD08fE3YUR4n",
        "outputId": "f56af034-7473-41d9-82a2-d8a503fcf0ad"
      },
      "execution_count": null,
      "outputs": [
        {
          "output_type": "stream",
          "name": "stdout",
          "text": [
            "tf.Tensor(\n",
            "[[[1. 1. 1.]\n",
            "  [1. 1. 1.]]\n",
            "\n",
            " [[2. 2. 2.]\n",
            "  [2. 2. 2.]]], shape=(2, 2, 3), dtype=float16)\n",
            "3\n"
          ]
        }
      ]
    },
    {
      "cell_type": "markdown",
      "source": [
        "Summary-1:\n",
        "* Sclar: Single number\n",
        "* Vecotr: Number with an array\n",
        "* Matrix: 2-d array of numbers\n",
        "* Tensor: n-dimensional array of numbers (It can be scalar, vector or a matrix of n-dimensions)"
      ],
      "metadata": {
        "id": "1gDrYKTfX-iC"
      }
    },
    {
      "cell_type": "markdown",
      "source": [
        "####Creating tensor with tf.variable"
      ],
      "metadata": {
        "id": "u6aMvpX3ZnO_"
      }
    },
    {
      "cell_type": "code",
      "source": [
        "changeable_tensor = tf.Variable([1,2,3])\n",
        "unchangable_tensor = tf.constant([4,5,6])\n",
        "print(changeable_tensor)\n",
        "unchangable_tensor"
      ],
      "metadata": {
        "colab": {
          "base_uri": "https://localhost:8080/"
        },
        "id": "NUKbRHcUbhrt",
        "outputId": "85ce631e-d083-42a6-8819-9319557a8449"
      },
      "execution_count": 19,
      "outputs": [
        {
          "output_type": "stream",
          "name": "stdout",
          "text": [
            "<tf.Variable 'Variable:0' shape=(3,) dtype=int32, numpy=array([1, 2, 3], dtype=int32)>\n"
          ]
        },
        {
          "output_type": "execute_result",
          "data": {
            "text/plain": [
              "<tf.Tensor: shape=(3,), dtype=int32, numpy=array([4, 5, 6], dtype=int32)>"
            ]
          },
          "metadata": {},
          "execution_count": 19
        }
      ]
    },
    {
      "cell_type": "code",
      "source": [
        "changeable_tensor[0].assign(0)"
      ],
      "metadata": {
        "colab": {
          "base_uri": "https://localhost:8080/"
        },
        "id": "U7icta3gcgQ7",
        "outputId": "72598967-8433-4c3d-92e7-37597f133a22"
      },
      "execution_count": 20,
      "outputs": [
        {
          "output_type": "execute_result",
          "data": {
            "text/plain": [
              "<tf.Variable 'UnreadVariable' shape=(3,) dtype=int32, numpy=array([0, 2, 3], dtype=int32)>"
            ]
          },
          "metadata": {},
          "execution_count": 20
        }
      ]
    },
    {
      "cell_type": "markdown",
      "source": [
        "Summary-2:\n",
        "* tf.constant is used when we want certain tensors to remain constant\n",
        "* tf.Variable can be changed using .assign() function\n",
        "\n",
        "🔑 Generally, tensorflow takes care of this assignment but if ever necessary use tf.constant and change it later. "
      ],
      "metadata": {
        "id": "YRXkm5Ofctl2"
      }
    },
    {
      "cell_type": "markdown",
      "source": [
        "####Creating random tensors."
      ],
      "metadata": {
        "id": "qLb7DQYPmmOU"
      }
    },
    {
      "cell_type": "code",
      "source": [
        "random_1 = tf.random.Generator.from_seed(42)\n",
        "random_1 = random_1.normal(shape=(3,2))\n",
        "random_2 = tf.random.Generator.from_seed(42)\n",
        "random_2 = random_2.normal(shape=(3,2))\n",
        "print(random_1,\"\\n\",random_2)"
      ],
      "metadata": {
        "id": "U_86ENkydDRx",
        "colab": {
          "base_uri": "https://localhost:8080/"
        },
        "outputId": "db0df0fd-7697-44b0-c0a6-c7dc0e73c446"
      },
      "execution_count": 45,
      "outputs": [
        {
          "output_type": "stream",
          "name": "stdout",
          "text": [
            "tf.Tensor(\n",
            "[[-0.7565803  -0.06854702]\n",
            " [ 0.07595026 -1.2573844 ]\n",
            " [-0.23193763 -1.8107855 ]], shape=(3, 2), dtype=float32) \n",
            " tf.Tensor(\n",
            "[[-0.7565803  -0.06854702]\n",
            " [ 0.07595026 -1.2573844 ]\n",
            " [-0.23193763 -1.8107855 ]], shape=(3, 2), dtype=float32)\n"
          ]
        }
      ]
    },
    {
      "cell_type": "code",
      "source": [
        "tf.random.set_seed(42)\n",
        "tf.random.shuffle(random_1)\n"
      ],
      "metadata": {
        "colab": {
          "base_uri": "https://localhost:8080/"
        },
        "id": "Ccfrqy6RkA1r",
        "outputId": "90cf7ac8-9ec1-4e80-f4c8-905467bc7f35"
      },
      "execution_count": 48,
      "outputs": [
        {
          "output_type": "execute_result",
          "data": {
            "text/plain": [
              "<tf.Tensor: shape=(3, 2), dtype=float32, numpy=\n",
              "array([[-0.23193763, -1.8107855 ],\n",
              "       [-0.7565803 , -0.06854702],\n",
              "       [ 0.07595026, -1.2573844 ]], dtype=float32)>"
            ]
          },
          "metadata": {},
          "execution_count": 48
        }
      ]
    },
    {
      "cell_type": "code",
      "source": [
        "\n",
        "# tf.random.set_seed(34)\n",
        "tf.random.shuffle(random_2, seed= 20)"
      ],
      "metadata": {
        "colab": {
          "base_uri": "https://localhost:8080/"
        },
        "id": "sUGpHxsDlos5",
        "outputId": "0c2d5a9e-1fa9-46f0-9f4f-b0aad8617faf"
      },
      "execution_count": 51,
      "outputs": [
        {
          "output_type": "execute_result",
          "data": {
            "text/plain": [
              "<tf.Tensor: shape=(3, 2), dtype=float32, numpy=\n",
              "array([[-0.7565803 , -0.06854702],\n",
              "       [ 0.07595026, -1.2573844 ],\n",
              "       [-0.23193763, -1.8107855 ]], dtype=float32)>"
            ]
          },
          "metadata": {},
          "execution_count": 51
        }
      ]
    },
    {
      "cell_type": "code",
      "source": [
        "tf.ones(shape=(3,4))"
      ],
      "metadata": {
        "colab": {
          "base_uri": "https://localhost:8080/"
        },
        "id": "nCIYmSb-pO-f",
        "outputId": "ee416ed1-bb64-42e5-a7be-ee66982fdf69"
      },
      "execution_count": 52,
      "outputs": [
        {
          "output_type": "execute_result",
          "data": {
            "text/plain": [
              "<tf.Tensor: shape=(3, 4), dtype=float32, numpy=\n",
              "array([[1., 1., 1., 1.],\n",
              "       [1., 1., 1., 1.],\n",
              "       [1., 1., 1., 1.]], dtype=float32)>"
            ]
          },
          "metadata": {},
          "execution_count": 52
        }
      ]
    },
    {
      "cell_type": "code",
      "source": [
        "tf.zeros(shape=(3,4))"
      ],
      "metadata": {
        "colab": {
          "base_uri": "https://localhost:8080/"
        },
        "id": "3B8iV7tZp1Fu",
        "outputId": "99da3bd4-db58-49ec-e322-2159ac97f880"
      },
      "execution_count": 53,
      "outputs": [
        {
          "output_type": "execute_result",
          "data": {
            "text/plain": [
              "<tf.Tensor: shape=(3, 4), dtype=float32, numpy=\n",
              "array([[0., 0., 0., 0.],\n",
              "       [0., 0., 0., 0.],\n",
              "       [0., 0., 0., 0.]], dtype=float32)>"
            ]
          },
          "metadata": {},
          "execution_count": 53
        }
      ]
    },
    {
      "cell_type": "markdown",
      "source": [
        "Summary-3\n",
        "\n",
        "* Creating random tensor using  ```tf.random.Generator.from_seed()``` and the ```.normal(shape([x,y,z]))```.\n",
        "* These random tensors are created because in the beginning, the hidden layer has random weights and it later changes them based on the input and output tensors.\n",
        "* Shuffling the created tensors by setting the key seed value for a random shuffle using ```tf.random.set_seed(x)``` and then ```tf.random.shuffle(tensor_name)```.\n",
        "* This is done so that all the input tensors are well shuffled for the hidden layer to learn from all the possible inputs.\n",
        "* ```tf.ones(shape=())``` and ```tf.zeros(shape=())``` are used to create tensors of 1s and 0s of given shape.\n",
        "* The major difference between tensors and numpy arrays is that tensors can also run on the GPU.\n",
        "\n"
      ],
      "metadata": {
        "id": "4lR51fywlrw5"
      }
    }
  ]
}