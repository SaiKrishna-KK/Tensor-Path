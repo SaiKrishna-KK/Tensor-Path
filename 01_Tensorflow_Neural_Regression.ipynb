{
  "nbformat": 4,
  "nbformat_minor": 0,
  "metadata": {
    "colab": {
      "name": "01-Tensorflow-Neural Regression.ipynb",
      "provenance": [],
      "collapsed_sections": [],
      "toc_visible": true
    },
    "kernelspec": {
      "name": "python3",
      "display_name": "Python 3"
    },
    "language_info": {
      "name": "python"
    },
    "accelerator": "GPU",
    "gpuClass": "standard"
  },
  "cells": [
    {
      "cell_type": "markdown",
      "source": [
        "# Neural Network Regression with Tensorflow"
      ],
      "metadata": {
        "id": "L2tdz0AMISQk"
      }
    },
    {
      "cell_type": "code",
      "execution_count": null,
      "metadata": {
        "id": "tRzmx-0CHqJ1"
      },
      "outputs": [],
      "source": [
        "import tensorflow as tf\n",
        "import numpy as np\n",
        "import matplotlib.pyplot as plt"
      ]
    },
    {
      "cell_type": "code",
      "source": [
        "X = tf.constant([-7.0, -4.0, -1.0, 2.0, 5.0, 8.0, 11.0, 14.0])\n",
        "y = tf.constant([3.0, 6.0, 9.0, 12.0, 15.0, 18.0, 21.0, 24.0])\n"
      ],
      "metadata": {
        "id": "YPzGRfjcIRX8"
      },
      "execution_count": null,
      "outputs": []
    },
    {
      "cell_type": "markdown",
      "source": [
        "# Steps to create a neural regression model.\n",
        "\n",
        "1. **Creating a model** - here you might want to add more layers, increase the number of hidden units (also called neurons) within each layer, change the activation functions of each layer.\n",
        "\n",
        "2. **Compiling a model** - you might want to choose optimization function or perhaps change the learning rate of the optimization function.\n",
        "\n",
        "3. **Fitting a model** - perhaps you could fit a model for more epochs (leave it training for longer) or on more data (give the model more examples to learn from).\n"
      ],
      "metadata": {
        "id": "3cNVzT5z-XLp"
      }
    },
    {
      "cell_type": "code",
      "source": [
        "model =tf.random.set_seed(24)\n",
        "\n",
        "model = tf.keras.Sequential([tf.keras.layers.Dense(100, activation = 'relu'),\n",
        "                             tf.keras.layers.Dense(100, activation = 'relu'),\n",
        "                             tf.keras.layers.Dense(1)])\n",
        "\n",
        "model.compile(loss=tf.keras.losses.mae,\n",
        "               optimizer =tf.keras.optimizers.Adam(lr = 0.1),\n",
        "               metrics = ['mae'])\n",
        " \n",
        "model.fit(tf.expand_dims(X, axis=-1), y, epochs=50)\n"
      ],
      "metadata": {
        "colab": {
          "base_uri": "https://localhost:8080/"
        },
        "id": "Kzw4NyVoKQz8",
        "outputId": "00d9d343-2983-451e-af76-49c7a8da9cf8"
      },
      "execution_count": null,
      "outputs": [
        {
          "output_type": "stream",
          "name": "stdout",
          "text": [
            "Epoch 1/50\n"
          ]
        },
        {
          "output_type": "stream",
          "name": "stderr",
          "text": [
            "/usr/local/lib/python3.7/dist-packages/keras/optimizer_v2/adam.py:105: UserWarning: The `lr` argument is deprecated, use `learning_rate` instead.\n",
            "  super(Adam, self).__init__(name, **kwargs)\n"
          ]
        },
        {
          "output_type": "stream",
          "name": "stdout",
          "text": [
            "1/1 [==============================] - 1s 946ms/step - loss: 14.3520 - mae: 14.3520\n",
            "Epoch 2/50\n",
            "1/1 [==============================] - 0s 9ms/step - loss: 10.1669 - mae: 10.1669\n",
            "Epoch 3/50\n",
            "1/1 [==============================] - 0s 9ms/step - loss: 9.4934 - mae: 9.4934\n",
            "Epoch 4/50\n",
            "1/1 [==============================] - 0s 7ms/step - loss: 5.9961 - mae: 5.9961\n",
            "Epoch 5/50\n",
            "1/1 [==============================] - 0s 7ms/step - loss: 10.3676 - mae: 10.3676\n",
            "Epoch 6/50\n",
            "1/1 [==============================] - 0s 7ms/step - loss: 5.1229 - mae: 5.1229\n",
            "Epoch 7/50\n",
            "1/1 [==============================] - 0s 7ms/step - loss: 8.3902 - mae: 8.3902\n",
            "Epoch 8/50\n",
            "1/1 [==============================] - 0s 7ms/step - loss: 8.7047 - mae: 8.7047\n",
            "Epoch 9/50\n",
            "1/1 [==============================] - 0s 6ms/step - loss: 4.3490 - mae: 4.3490\n",
            "Epoch 10/50\n",
            "1/1 [==============================] - 0s 6ms/step - loss: 10.0544 - mae: 10.0544\n",
            "Epoch 11/50\n",
            "1/1 [==============================] - 0s 16ms/step - loss: 8.6621 - mae: 8.6621\n",
            "Epoch 12/50\n",
            "1/1 [==============================] - 0s 15ms/step - loss: 3.2723 - mae: 3.2723\n",
            "Epoch 13/50\n",
            "1/1 [==============================] - 0s 7ms/step - loss: 6.2744 - mae: 6.2744\n",
            "Epoch 14/50\n",
            "1/1 [==============================] - 0s 8ms/step - loss: 7.8411 - mae: 7.8411\n",
            "Epoch 15/50\n",
            "1/1 [==============================] - 0s 7ms/step - loss: 6.4274 - mae: 6.4274\n",
            "Epoch 16/50\n",
            "1/1 [==============================] - 0s 8ms/step - loss: 5.2283 - mae: 5.2283\n",
            "Epoch 17/50\n",
            "1/1 [==============================] - 0s 8ms/step - loss: 4.0190 - mae: 4.0190\n",
            "Epoch 18/50\n",
            "1/1 [==============================] - 0s 7ms/step - loss: 3.7297 - mae: 3.7297\n",
            "Epoch 19/50\n",
            "1/1 [==============================] - 0s 7ms/step - loss: 1.1082 - mae: 1.1082\n",
            "Epoch 20/50\n",
            "1/1 [==============================] - 0s 7ms/step - loss: 2.4423 - mae: 2.4423\n",
            "Epoch 21/50\n",
            "1/1 [==============================] - 0s 8ms/step - loss: 1.2555 - mae: 1.2555\n",
            "Epoch 22/50\n",
            "1/1 [==============================] - 0s 8ms/step - loss: 1.7247 - mae: 1.7247\n",
            "Epoch 23/50\n",
            "1/1 [==============================] - 0s 8ms/step - loss: 1.4191 - mae: 1.4191\n",
            "Epoch 24/50\n",
            "1/1 [==============================] - 0s 7ms/step - loss: 1.9525 - mae: 1.9525\n",
            "Epoch 25/50\n",
            "1/1 [==============================] - 0s 11ms/step - loss: 2.2070 - mae: 2.2070\n",
            "Epoch 26/50\n",
            "1/1 [==============================] - 0s 15ms/step - loss: 0.5322 - mae: 0.5322\n",
            "Epoch 27/50\n",
            "1/1 [==============================] - 0s 14ms/step - loss: 3.6139 - mae: 3.6139\n",
            "Epoch 28/50\n",
            "1/1 [==============================] - 0s 9ms/step - loss: 3.9291 - mae: 3.9291\n",
            "Epoch 29/50\n",
            "1/1 [==============================] - 0s 25ms/step - loss: 1.4718 - mae: 1.4718\n",
            "Epoch 30/50\n",
            "1/1 [==============================] - 0s 7ms/step - loss: 2.3673 - mae: 2.3673\n",
            "Epoch 31/50\n",
            "1/1 [==============================] - 0s 7ms/step - loss: 3.8108 - mae: 3.8108\n",
            "Epoch 32/50\n",
            "1/1 [==============================] - 0s 9ms/step - loss: 3.9243 - mae: 3.9243\n",
            "Epoch 33/50\n",
            "1/1 [==============================] - 0s 7ms/step - loss: 2.9095 - mae: 2.9095\n",
            "Epoch 34/50\n",
            "1/1 [==============================] - 0s 9ms/step - loss: 0.8728 - mae: 0.8728\n",
            "Epoch 35/50\n",
            "1/1 [==============================] - 0s 9ms/step - loss: 2.9832 - mae: 2.9832\n",
            "Epoch 36/50\n",
            "1/1 [==============================] - 0s 14ms/step - loss: 4.0234 - mae: 4.0234\n",
            "Epoch 37/50\n",
            "1/1 [==============================] - 0s 12ms/step - loss: 2.5199 - mae: 2.5199\n",
            "Epoch 38/50\n",
            "1/1 [==============================] - 0s 8ms/step - loss: 0.7543 - mae: 0.7543\n",
            "Epoch 39/50\n",
            "1/1 [==============================] - 0s 10ms/step - loss: 1.6487 - mae: 1.6487\n",
            "Epoch 40/50\n",
            "1/1 [==============================] - 0s 15ms/step - loss: 1.3097 - mae: 1.3097\n",
            "Epoch 41/50\n",
            "1/1 [==============================] - 0s 7ms/step - loss: 0.7528 - mae: 0.7528\n",
            "Epoch 42/50\n",
            "1/1 [==============================] - 0s 8ms/step - loss: 0.8810 - mae: 0.8810\n",
            "Epoch 43/50\n",
            "1/1 [==============================] - 0s 7ms/step - loss: 0.5757 - mae: 0.5757\n",
            "Epoch 44/50\n",
            "1/1 [==============================] - 0s 7ms/step - loss: 0.2933 - mae: 0.2933\n",
            "Epoch 45/50\n",
            "1/1 [==============================] - 0s 8ms/step - loss: 1.5375 - mae: 1.5375\n",
            "Epoch 46/50\n",
            "1/1 [==============================] - 0s 7ms/step - loss: 1.4708 - mae: 1.4708\n",
            "Epoch 47/50\n",
            "1/1 [==============================] - 0s 8ms/step - loss: 0.4331 - mae: 0.4331\n",
            "Epoch 48/50\n",
            "1/1 [==============================] - 0s 10ms/step - loss: 0.4971 - mae: 0.4971\n",
            "Epoch 49/50\n",
            "1/1 [==============================] - 0s 9ms/step - loss: 0.9659 - mae: 0.9659\n",
            "Epoch 50/50\n",
            "1/1 [==============================] - 0s 9ms/step - loss: 0.3992 - mae: 0.3992\n"
          ]
        },
        {
          "output_type": "execute_result",
          "data": {
            "text/plain": [
              "<keras.callbacks.History at 0x7f10002b4650>"
            ]
          },
          "metadata": {},
          "execution_count": 3
        }
      ]
    },
    {
      "cell_type": "code",
      "source": [
        "model.predict([17.0])"
      ],
      "metadata": {
        "colab": {
          "base_uri": "https://localhost:8080/"
        },
        "id": "Yr1oHzDS8FQ7",
        "outputId": "e8449c72-6ed2-4657-d3ce-43818a3161c7"
      },
      "execution_count": null,
      "outputs": [
        {
          "output_type": "execute_result",
          "data": {
            "text/plain": [
              "array([[24.284418]], dtype=float32)"
            ]
          },
          "metadata": {},
          "execution_count": 4
        }
      ]
    },
    {
      "cell_type": "markdown",
      "source": [
        "## Evaluating a model\n",
        "\n",
        "In typical workflow of building a neural network model is \n",
        "``` \n",
        "Build -> fit it -> evaluate it -> tweak the model -> continue from the second step.\n",
        "\n",
        "```\n",
        "This process is carried on until satisfactory results are obtained.\n",
        "Tweaking various things is called tweaking hyper parameters."
      ],
      "metadata": {
        "id": "y1BsjB6Y8OAD"
      }
    },
    {
      "cell_type": "code",
      "source": [
        "X = tf.range(-100, 100, 3)\n",
        "Y = X/10\n",
        "X,Y"
      ],
      "metadata": {
        "id": "X4E3lPpdAEk5",
        "colab": {
          "base_uri": "https://localhost:8080/"
        },
        "outputId": "a5bc84a4-35f8-49df-cc66-f1eadfca2857"
      },
      "execution_count": null,
      "outputs": [
        {
          "output_type": "execute_result",
          "data": {
            "text/plain": [
              "(<tf.Tensor: shape=(67,), dtype=int32, numpy=\n",
              " array([-100,  -97,  -94,  -91,  -88,  -85,  -82,  -79,  -76,  -73,  -70,\n",
              "         -67,  -64,  -61,  -58,  -55,  -52,  -49,  -46,  -43,  -40,  -37,\n",
              "         -34,  -31,  -28,  -25,  -22,  -19,  -16,  -13,  -10,   -7,   -4,\n",
              "          -1,    2,    5,    8,   11,   14,   17,   20,   23,   26,   29,\n",
              "          32,   35,   38,   41,   44,   47,   50,   53,   56,   59,   62,\n",
              "          65,   68,   71,   74,   77,   80,   83,   86,   89,   92,   95,\n",
              "          98], dtype=int32)>, <tf.Tensor: shape=(67,), dtype=float64, numpy=\n",
              " array([-10. ,  -9.7,  -9.4,  -9.1,  -8.8,  -8.5,  -8.2,  -7.9,  -7.6,\n",
              "         -7.3,  -7. ,  -6.7,  -6.4,  -6.1,  -5.8,  -5.5,  -5.2,  -4.9,\n",
              "         -4.6,  -4.3,  -4. ,  -3.7,  -3.4,  -3.1,  -2.8,  -2.5,  -2.2,\n",
              "         -1.9,  -1.6,  -1.3,  -1. ,  -0.7,  -0.4,  -0.1,   0.2,   0.5,\n",
              "          0.8,   1.1,   1.4,   1.7,   2. ,   2.3,   2.6,   2.9,   3.2,\n",
              "          3.5,   3.8,   4.1,   4.4,   4.7,   5. ,   5.3,   5.6,   5.9,\n",
              "          6.2,   6.5,   6.8,   7.1,   7.4,   7.7,   8. ,   8.3,   8.6,\n",
              "          8.9,   9.2,   9.5,   9.8])>)"
            ]
          },
          "metadata": {},
          "execution_count": 5
        }
      ]
    },
    {
      "cell_type": "code",
      "source": [
        "import matplotlib.pyplot as plt\n",
        "plt.plot(X,Y)"
      ],
      "metadata": {
        "colab": {
          "base_uri": "https://localhost:8080/",
          "height": 283
        },
        "id": "KYSn1uxqklsp",
        "outputId": "bde95d94-6ac6-40bd-80b6-7185bb7aa977"
      },
      "execution_count": null,
      "outputs": [
        {
          "output_type": "execute_result",
          "data": {
            "text/plain": [
              "[<matplotlib.lines.Line2D at 0x7f1000010510>]"
            ]
          },
          "metadata": {},
          "execution_count": 6
        },
        {
          "output_type": "display_data",
          "data": {
            "text/plain": [
              "<Figure size 432x288 with 1 Axes>"
            ],
            "image/png": "[encoded data removed]"
          },
          "metadata": {
            "needs_background": "light"
          }
        }
      ]
    },
    {
      "cell_type": "code",
      "source": [
        "model_1 = tf.keras.Sequential([\n",
        "                               tf.keras.layers.Dense(100, activation = 'relu'),\n",
        "                               tf.keras.layers.Dense(100, activation = 'relu'),\n",
        "                               \n",
        "                               \n",
        "                               tf.keras.layers.Dense(1)\n",
        "])\n",
        "\n",
        "\n",
        "\n",
        "model_1.compile(loss=tf.keras.losses.mae,\n",
        "               optimizer =tf.keras.optimizers.Adam(lr = 0.1),\n",
        "               metrics = ['mae'])\n",
        "\n",
        "model_1.fit(tf.expand_dims(X, axis=-1), Y, epochs= 100)"
      ],
      "metadata": {
        "colab": {
          "base_uri": "https://localhost:8080/"
        },
        "id": "kRYw_VELmBRC",
        "outputId": "5707521c-5136-415a-e407-43be92c65ab2"
      },
      "execution_count": null,
      "outputs": [
        {
          "output_type": "stream",
          "name": "stdout",
          "text": [
            "Epoch 1/100\n"
          ]
        },
        {
          "output_type": "stream",
          "name": "stderr",
          "text": [
            "/usr/local/lib/python3.7/dist-packages/keras/optimizer_v2/adam.py:105: UserWarning: The `lr` argument is deprecated, use `learning_rate` instead.\n",
            "  super(Adam, self).__init__(name, **kwargs)\n"
          ]
        },
        {
          "output_type": "stream",
          "name": "stdout",
          "text": [
            "3/3 [==============================] - 0s 5ms/step - loss: 64.4783 - mae: 64.4783\n",
            "Epoch 2/100\n",
            "3/3 [==============================] - 0s 4ms/step - loss: 42.4113 - mae: 42.4113\n",
            "Epoch 3/100\n",
            "3/3 [==============================] - 0s 4ms/step - loss: 25.1990 - mae: 25.1990\n",
            "Epoch 4/100\n",
            "3/3 [==============================] - 0s 4ms/step - loss: 22.0636 - mae: 22.0636\n",
            "Epoch 5/100\n",
            "3/3 [==============================] - 0s 4ms/step - loss: 10.5564 - mae: 10.5564\n",
            "Epoch 6/100\n",
            "3/3 [==============================] - 0s 4ms/step - loss: 9.8028 - mae: 9.8028\n",
            "Epoch 7/100\n",
            "3/3 [==============================] - 0s 4ms/step - loss: 7.8463 - mae: 7.8463\n",
            "Epoch 8/100\n",
            "3/3 [==============================] - 0s 4ms/step - loss: 4.1579 - mae: 4.1579\n",
            "Epoch 9/100\n",
            "3/3 [==============================] - 0s 4ms/step - loss: 3.5883 - mae: 3.5883\n",
            "Epoch 10/100\n",
            "3/3 [==============================] - 0s 4ms/step - loss: 1.6714 - mae: 1.6714\n",
            "Epoch 11/100\n",
            "3/3 [==============================] - 0s 5ms/step - loss: 1.6477 - mae: 1.6477\n",
            "Epoch 12/100\n",
            "3/3 [==============================] - 0s 4ms/step - loss: 3.8654 - mae: 3.8654\n",
            "Epoch 13/100\n",
            "3/3 [==============================] - 0s 4ms/step - loss: 6.6152 - mae: 6.6152\n",
            "Epoch 14/100\n",
            "3/3 [==============================] - 0s 4ms/step - loss: 2.0776 - mae: 2.0776\n",
            "Epoch 15/100\n",
            "3/3 [==============================] - 0s 4ms/step - loss: 4.1484 - mae: 4.1484\n",
            "Epoch 16/100\n",
            "3/3 [==============================] - 0s 4ms/step - loss: 3.6513 - mae: 3.6513\n",
            "Epoch 17/100\n",
            "3/3 [==============================] - 0s 4ms/step - loss: 2.5735 - mae: 2.5735\n",
            "Epoch 18/100\n",
            "3/3 [==============================] - 0s 4ms/step - loss: 1.2551 - mae: 1.2551\n",
            "Epoch 19/100\n",
            "3/3 [==============================] - 0s 4ms/step - loss: 1.3144 - mae: 1.3144\n",
            "Epoch 20/100\n",
            "3/3 [==============================] - 0s 4ms/step - loss: 1.2460 - mae: 1.2460\n",
            "Epoch 21/100\n",
            "3/3 [==============================] - 0s 4ms/step - loss: 1.1611 - mae: 1.1611\n",
            "Epoch 22/100\n",
            "3/3 [==============================] - 0s 5ms/step - loss: 1.3147 - mae: 1.3147\n",
            "Epoch 23/100\n",
            "3/3 [==============================] - 0s 4ms/step - loss: 2.3386 - mae: 2.3386\n",
            "Epoch 24/100\n",
            "3/3 [==============================] - 0s 4ms/step - loss: 1.0282 - mae: 1.0282\n",
            "Epoch 25/100\n",
            "3/3 [==============================] - 0s 4ms/step - loss: 2.3434 - mae: 2.3434\n",
            "Epoch 26/100\n",
            "3/3 [==============================] - 0s 4ms/step - loss: 1.7643 - mae: 1.7643\n",
            "Epoch 27/100\n",
            "3/3 [==============================] - 0s 4ms/step - loss: 0.5143 - mae: 0.5143\n",
            "Epoch 28/100\n",
            "3/3 [==============================] - 0s 5ms/step - loss: 0.6755 - mae: 0.6755\n",
            "Epoch 29/100\n",
            "3/3 [==============================] - 0s 4ms/step - loss: 0.2739 - mae: 0.2739\n",
            "Epoch 30/100\n",
            "3/3 [==============================] - 0s 5ms/step - loss: 0.4363 - mae: 0.4363\n",
            "Epoch 31/100\n",
            "3/3 [==============================] - 0s 4ms/step - loss: 1.2557 - mae: 1.2557\n",
            "Epoch 32/100\n",
            "3/3 [==============================] - 0s 4ms/step - loss: 0.5943 - mae: 0.5943\n",
            "Epoch 33/100\n",
            "3/3 [==============================] - 0s 4ms/step - loss: 2.2075 - mae: 2.2075\n",
            "Epoch 34/100\n",
            "3/3 [==============================] - 0s 4ms/step - loss: 2.5710 - mae: 2.5710\n",
            "Epoch 35/100\n",
            "3/3 [==============================] - 0s 4ms/step - loss: 2.4009 - mae: 2.4009\n",
            "Epoch 36/100\n",
            "3/3 [==============================] - 0s 5ms/step - loss: 1.2944 - mae: 1.2944\n",
            "Epoch 37/100\n",
            "3/3 [==============================] - 0s 4ms/step - loss: 0.7908 - mae: 0.7908\n",
            "Epoch 38/100\n",
            "3/3 [==============================] - 0s 4ms/step - loss: 0.7905 - mae: 0.7905\n",
            "Epoch 39/100\n",
            "3/3 [==============================] - 0s 5ms/step - loss: 1.4108 - mae: 1.4108\n",
            "Epoch 40/100\n",
            "3/3 [==============================] - 0s 4ms/step - loss: 1.4330 - mae: 1.4330\n",
            "Epoch 41/100\n",
            "3/3 [==============================] - 0s 4ms/step - loss: 0.6844 - mae: 0.6844\n",
            "Epoch 42/100\n",
            "3/3 [==============================] - 0s 4ms/step - loss: 1.3373 - mae: 1.3373\n",
            "Epoch 43/100\n",
            "3/3 [==============================] - 0s 4ms/step - loss: 0.7964 - mae: 0.7964\n",
            "Epoch 44/100\n",
            "3/3 [==============================] - 0s 4ms/step - loss: 0.9953 - mae: 0.9953\n",
            "Epoch 45/100\n",
            "3/3 [==============================] - 0s 5ms/step - loss: 1.3678 - mae: 1.3678\n",
            "Epoch 46/100\n",
            "3/3 [==============================] - 0s 5ms/step - loss: 1.9455 - mae: 1.9455\n",
            "Epoch 47/100\n",
            "3/3 [==============================] - 0s 5ms/step - loss: 2.3914 - mae: 2.3914\n",
            "Epoch 48/100\n",
            "3/3 [==============================] - 0s 4ms/step - loss: 3.2337 - mae: 3.2337\n",
            "Epoch 49/100\n",
            "3/3 [==============================] - 0s 8ms/step - loss: 2.7130 - mae: 2.7130\n",
            "Epoch 50/100\n",
            "3/3 [==============================] - 0s 4ms/step - loss: 2.8411 - mae: 2.8411\n",
            "Epoch 51/100\n",
            "3/3 [==============================] - 0s 6ms/step - loss: 2.0448 - mae: 2.0448\n",
            "Epoch 52/100\n",
            "3/3 [==============================] - 0s 4ms/step - loss: 0.8697 - mae: 0.8697\n",
            "Epoch 53/100\n",
            "3/3 [==============================] - 0s 4ms/step - loss: 1.3364 - mae: 1.3364\n",
            "Epoch 54/100\n",
            "3/3 [==============================] - 0s 4ms/step - loss: 1.1876 - mae: 1.1876\n",
            "Epoch 55/100\n",
            "3/3 [==============================] - 0s 4ms/step - loss: 1.3306 - mae: 1.3306\n",
            "Epoch 56/100\n",
            "3/3 [==============================] - 0s 5ms/step - loss: 0.6982 - mae: 0.6982\n",
            "Epoch 57/100\n",
            "3/3 [==============================] - 0s 4ms/step - loss: 0.4541 - mae: 0.4541\n",
            "Epoch 58/100\n",
            "3/3 [==============================] - 0s 4ms/step - loss: 1.0722 - mae: 1.0722\n",
            "Epoch 59/100\n",
            "3/3 [==============================] - 0s 4ms/step - loss: 0.3933 - mae: 0.3933\n",
            "Epoch 60/100\n",
            "3/3 [==============================] - 0s 5ms/step - loss: 0.5649 - mae: 0.5649\n",
            "Epoch 61/100\n",
            "3/3 [==============================] - 0s 5ms/step - loss: 1.1833 - mae: 1.1833\n",
            "Epoch 62/100\n",
            "3/3 [==============================] - 0s 4ms/step - loss: 1.1643 - mae: 1.1643\n",
            "Epoch 63/100\n",
            "3/3 [==============================] - 0s 4ms/step - loss: 0.9251 - mae: 0.9251\n",
            "Epoch 64/100\n",
            "3/3 [==============================] - 0s 4ms/step - loss: 0.9977 - mae: 0.9977\n",
            "Epoch 65/100\n",
            "3/3 [==============================] - 0s 5ms/step - loss: 1.0246 - mae: 1.0246\n",
            "Epoch 66/100\n",
            "3/3 [==============================] - 0s 9ms/step - loss: 1.2256 - mae: 1.2256\n",
            "Epoch 67/100\n",
            "3/3 [==============================] - 0s 4ms/step - loss: 0.6316 - mae: 0.6316\n",
            "Epoch 68/100\n",
            "3/3 [==============================] - 0s 6ms/step - loss: 0.7251 - mae: 0.7251\n",
            "Epoch 69/100\n",
            "3/3 [==============================] - 0s 4ms/step - loss: 0.8814 - mae: 0.8814\n",
            "Epoch 70/100\n",
            "3/3 [==============================] - 0s 4ms/step - loss: 0.3460 - mae: 0.3460\n",
            "Epoch 71/100\n",
            "3/3 [==============================] - 0s 4ms/step - loss: 2.0289 - mae: 2.0289\n",
            "Epoch 72/100\n",
            "3/3 [==============================] - 0s 5ms/step - loss: 1.1049 - mae: 1.1049\n",
            "Epoch 73/100\n",
            "3/3 [==============================] - 0s 5ms/step - loss: 1.2749 - mae: 1.2749\n",
            "Epoch 74/100\n",
            "3/3 [==============================] - 0s 5ms/step - loss: 1.0383 - mae: 1.0383\n",
            "Epoch 75/100\n",
            "3/3 [==============================] - 0s 4ms/step - loss: 0.5009 - mae: 0.5009\n",
            "Epoch 76/100\n",
            "3/3 [==============================] - 0s 4ms/step - loss: 0.6723 - mae: 0.6723\n",
            "Epoch 77/100\n",
            "3/3 [==============================] - 0s 5ms/step - loss: 1.2984 - mae: 1.2984\n",
            "Epoch 78/100\n",
            "3/3 [==============================] - 0s 8ms/step - loss: 0.4302 - mae: 0.4302\n",
            "Epoch 79/100\n",
            "3/3 [==============================] - 0s 8ms/step - loss: 0.6287 - mae: 0.6287\n",
            "Epoch 80/100\n",
            "3/3 [==============================] - 0s 4ms/step - loss: 0.4628 - mae: 0.4628\n",
            "Epoch 81/100\n",
            "3/3 [==============================] - 0s 5ms/step - loss: 0.5801 - mae: 0.5801\n",
            "Epoch 82/100\n",
            "3/3 [==============================] - 0s 4ms/step - loss: 0.4871 - mae: 0.4871\n",
            "Epoch 83/100\n",
            "3/3 [==============================] - 0s 7ms/step - loss: 1.3330 - mae: 1.3330\n",
            "Epoch 84/100\n",
            "3/3 [==============================] - 0s 4ms/step - loss: 0.9943 - mae: 0.9943\n",
            "Epoch 85/100\n",
            "3/3 [==============================] - 0s 4ms/step - loss: 2.1361 - mae: 2.1361\n",
            "Epoch 86/100\n",
            "3/3 [==============================] - 0s 5ms/step - loss: 1.7723 - mae: 1.7723\n",
            "Epoch 87/100\n",
            "3/3 [==============================] - 0s 6ms/step - loss: 1.3115 - mae: 1.3115\n",
            "Epoch 88/100\n",
            "3/3 [==============================] - 0s 4ms/step - loss: 0.7435 - mae: 0.7435\n",
            "Epoch 89/100\n",
            "3/3 [==============================] - 0s 4ms/step - loss: 0.3880 - mae: 0.3880\n",
            "Epoch 90/100\n",
            "3/3 [==============================] - 0s 4ms/step - loss: 0.7206 - mae: 0.7206\n",
            "Epoch 91/100\n",
            "3/3 [==============================] - 0s 4ms/step - loss: 0.5681 - mae: 0.5681\n",
            "Epoch 92/100\n",
            "3/3 [==============================] - 0s 5ms/step - loss: 0.3399 - mae: 0.3399\n",
            "Epoch 93/100\n",
            "3/3 [==============================] - 0s 5ms/step - loss: 0.3836 - mae: 0.3836\n",
            "Epoch 94/100\n",
            "3/3 [==============================] - 0s 4ms/step - loss: 1.2088 - mae: 1.2088\n",
            "Epoch 95/100\n",
            "3/3 [==============================] - 0s 4ms/step - loss: 0.8894 - mae: 0.8894\n",
            "Epoch 96/100\n",
            "3/3 [==============================] - 0s 5ms/step - loss: 0.9789 - mae: 0.9789\n",
            "Epoch 97/100\n",
            "3/3 [==============================] - 0s 5ms/step - loss: 0.8245 - mae: 0.8245\n",
            "Epoch 98/100\n",
            "3/3 [==============================] - 0s 5ms/step - loss: 1.2618 - mae: 1.2618\n",
            "Epoch 99/100\n",
            "3/3 [==============================] - 0s 4ms/step - loss: 0.9294 - mae: 0.9294\n",
            "Epoch 100/100\n",
            "3/3 [==============================] - 0s 4ms/step - loss: 0.4349 - mae: 0.4349\n"
          ]
        },
        {
          "output_type": "execute_result",
          "data": {
            "text/plain": [
              "<keras.callbacks.History at 0x7f0f9a1e9a10>"
            ]
          },
          "metadata": {},
          "execution_count": 7
        }
      ]
    },
    {
      "cell_type": "code",
      "source": [
        "test= 101/10\n",
        "test"
      ],
      "metadata": {
        "colab": {
          "base_uri": "https://localhost:8080/"
        },
        "id": "n06HbtJ7m5bQ",
        "outputId": "e868c22d-55bf-4488-cc0a-7a31da12bfd9"
      },
      "execution_count": null,
      "outputs": [
        {
          "output_type": "execute_result",
          "data": {
            "text/plain": [
              "10.1"
            ]
          },
          "metadata": {},
          "execution_count": 8
        }
      ]
    },
    {
      "cell_type": "code",
      "source": [
        "model_1.predict([101])"
      ],
      "metadata": {
        "colab": {
          "base_uri": "https://localhost:8080/"
        },
        "id": "ObPhO4G3nz9t",
        "outputId": "0e9f1ad5-166a-4f56-bdc7-a0df3bb16952"
      },
      "execution_count": null,
      "outputs": [
        {
          "output_type": "execute_result",
          "data": {
            "text/plain": [
              "array([[9.241779]], dtype=float32)"
            ]
          },
          "metadata": {},
          "execution_count": 9
        }
      ]
    },
    {
      "cell_type": "markdown",
      "source": [
        "## Visualise\n",
        "It is always a good practice to visualise everything that is being built.\n",
        "\n",
        "1. **Data**\n",
        "2. **Model**\n",
        "3. **Training of the model**\n",
        "4. **Validation of the model**"
      ],
      "metadata": {
        "id": "_fcCsGNNoVYO"
      }
    },
    {
      "cell_type": "code",
      "source": [
        "X, Y = tf.range(-100, 103, 3), X/10\n",
        "print(len(X), len(Y))\n",
        "X, Y"
      ],
      "metadata": {
        "colab": {
          "base_uri": "https://localhost:8080/"
        },
        "id": "ju4tj2oOZYEe",
        "outputId": "b4e16060-ea54-4ee9-921c-d81de33529f5"
      },
      "execution_count": null,
      "outputs": [
        {
          "output_type": "stream",
          "name": "stdout",
          "text": [
            "68 68\n"
          ]
        },
        {
          "output_type": "execute_result",
          "data": {
            "text/plain": [
              "(<tf.Tensor: shape=(68,), dtype=int32, numpy=\n",
              " array([-100,  -97,  -94,  -91,  -88,  -85,  -82,  -79,  -76,  -73,  -70,\n",
              "         -67,  -64,  -61,  -58,  -55,  -52,  -49,  -46,  -43,  -40,  -37,\n",
              "         -34,  -31,  -28,  -25,  -22,  -19,  -16,  -13,  -10,   -7,   -4,\n",
              "          -1,    2,    5,    8,   11,   14,   17,   20,   23,   26,   29,\n",
              "          32,   35,   38,   41,   44,   47,   50,   53,   56,   59,   62,\n",
              "          65,   68,   71,   74,   77,   80,   83,   86,   89,   92,   95,\n",
              "          98,  101], dtype=int32)>,\n",
              " <tf.Tensor: shape=(68,), dtype=float64, numpy=\n",
              " array([-10. ,  -9.7,  -9.4,  -9.1,  -8.8,  -8.5,  -8.2,  -7.9,  -7.6,\n",
              "         -7.3,  -7. ,  -6.7,  -6.4,  -6.1,  -5.8,  -5.5,  -5.2,  -4.9,\n",
              "         -4.6,  -4.3,  -4. ,  -3.7,  -3.4,  -3.1,  -2.8,  -2.5,  -2.2,\n",
              "         -1.9,  -1.6,  -1.3,  -1. ,  -0.7,  -0.4,  -0.1,   0.2,   0.5,\n",
              "          0.8,   1.1,   1.4,   1.7,   2. ,   2.3,   2.6,   2.9,   3.2,\n",
              "          3.5,   3.8,   4.1,   4.4,   4.7,   5. ,   5.3,   5.6,   5.9,\n",
              "          6.2,   6.5,   6.8,   7.1,   7.4,   7.7,   8. ,   8.3,   8.6,\n",
              "          8.9,   9.2,   9.5,   9.8,  10.1])>)"
            ]
          },
          "metadata": {},
          "execution_count": 23
        }
      ]
    },
    {
      "cell_type": "markdown",
      "source": [
        "## Spliting the data into training and testing\n",
        "\n",
        "There are three types of splits neeeded to be made;\n",
        "1. **Training Set** - 70%-80% of the data will be under the training split\n",
        "2. **Validation Set** - 10-15% of the data. (this is like a practice test)\n",
        "3. **Test Set** - 10-15% of the data. (this is like the final exam, and this can only be done if the dataset is large in size.)\n"
      ],
      "metadata": {
        "id": "krvMuEBrZgXi"
      }
    },
    {
      "cell_type": "code",
      "source": [
        "(80/100)*68"
      ],
      "metadata": {
        "colab": {
          "base_uri": "https://localhost:8080/"
        },
        "id": "7UEYfzFgavCJ",
        "outputId": "6629b876-7ecf-4097-f58f-76a4631305d2"
      },
      "execution_count": null,
      "outputs": [
        {
          "output_type": "execute_result",
          "data": {
            "text/plain": [
              "54.400000000000006"
            ]
          },
          "metadata": {},
          "execution_count": 24
        }
      ]
    },
    {
      "cell_type": "code",
      "source": [
        "X_train, y_train, X_test, y_test = X[:54], Y[:54], X[54:], Y[54:]\n",
        "print('This split is made in 7:3 ratio')\n",
        "len(X_train), len(y_train), len(X_test), len(y_test)"
      ],
      "metadata": {
        "colab": {
          "base_uri": "https://localhost:8080/"
        },
        "id": "HpmA8wpYaxUf",
        "outputId": "7885e076-3f46-41d9-8a7d-7f9ad94203ae"
      },
      "execution_count": null,
      "outputs": [
        {
          "output_type": "stream",
          "name": "stdout",
          "text": [
            "This split is made in 7:3 ratio\n"
          ]
        },
        {
          "output_type": "execute_result",
          "data": {
            "text/plain": [
              "(54, 54, 14, 14)"
            ]
          },
          "metadata": {},
          "execution_count": 25
        }
      ]
    },
    {
      "cell_type": "code",
      "source": [
        "plt.figure(figsize = (10,7))\n",
        "plt.scatter(X_train, y_train, c='b', label ='Training Data')\n",
        "plt.scatter(X_test, y_test, c= 'g', label = 'Testing Data')\n",
        "plt.legend()"
      ],
      "metadata": {
        "colab": {
          "base_uri": "https://localhost:8080/",
          "height": 446
        },
        "id": "KD-H8W-FbkQa",
        "outputId": "a49fef7b-2f68-4cf9-a672-1de3747bf35c"
      },
      "execution_count": null,
      "outputs": [
        {
          "output_type": "execute_result",
          "data": {
            "text/plain": [
              "<matplotlib.legend.Legend at 0x7f0f8455a3d0>"
            ]
          },
          "metadata": {},
          "execution_count": 26
        },
        {
          "output_type": "display_data",
          "data": {
            "text/plain": [
              "<Figure size 720x504 with 1 Axes>"
            ],
            "image/png": "[encoded data removed]"
          },
          "metadata": {
            "needs_background": "light"
          }
        }
      ]
    },
    {
      "cell_type": "code",
      "source": [
        "model_2 = tf.keras.Sequential([\n",
        "                               tf.keras.layers.Dense(1, input_shape=[1] ,activation = None, name = 'input_layer'),\n",
        "                               tf.keras.layers.Dense(100 ,activation = None),\n",
        "                               tf.keras.layers.Dense(100 ,activation = None),\n",
        "                               tf.keras.layers.Dense(100 ,activation = None),\n",
        "                               tf.keras.layers.Dense(100 ,activation = None),\n",
        "                               tf.keras.layers.Dense(1,activation = None, name = 'output_layer'),\n",
        "\n",
        "], name = \"Model_2\")\n",
        "\n",
        "model_2.compile(loss = 'mae',\n",
        "                optimizer = tf.keras.optimizers.Adam(learning_rate=0.01),\n",
        "                metrics = ['mae'])"
      ],
      "metadata": {
        "id": "Juh2OkxAgdht"
      },
      "execution_count": null,
      "outputs": []
    },
    {
      "cell_type": "code",
      "source": [
        "model_2.summary()"
      ],
      "metadata": {
        "colab": {
          "base_uri": "https://localhost:8080/"
        },
        "id": "C5xYpRzohQ3w",
        "outputId": "014f0939-ff8a-4152-8956-a39e66cc9b53"
      },
      "execution_count": null,
      "outputs": [
        {
          "output_type": "stream",
          "name": "stdout",
          "text": [
            "Model: \"Model_2\"\n",
            "_________________________________________________________________\n",
            " Layer (type)                Output Shape              Param #   \n",
            "=================================================================\n",
            " input_layer (Dense)         (None, 1)                 2         \n",
            "                                                                 \n",
            " dense_6 (Dense)             (None, 100)               200       \n",
            "                                                                 \n",
            " dense_7 (Dense)             (None, 100)               10100     \n",
            "                                                                 \n",
            " dense_8 (Dense)             (None, 100)               10100     \n",
            "                                                                 \n",
            " dense_9 (Dense)             (None, 100)               10100     \n",
            "                                                                 \n",
            " output_layer (Dense)        (None, 1)                 101       \n",
            "                                                                 \n",
            "=================================================================\n",
            "Total params: 30,603\n",
            "Trainable params: 30,603\n",
            "Non-trainable params: 0\n",
            "_________________________________________________________________\n"
          ]
        }
      ]
    },
    {
      "cell_type": "markdown",
      "source": [
        "## About ``model.summary()``\n",
        "This gives the complete summary of the model in a table format. The table has the following details about the model.\n",
        "1. **Layer Type**: Describes the type of each layer, and word ``(Dense)`` means its completely connected.\n",
        "2. **Output Shape**: Describes the number of neurons in the output layer. Here, ``None`` is given but it generally describes the activation function of the layer.\n",
        "3. **Param** : Describes the number of parameters being trained in that layer.\n",
        "4. **Total Params**: Total number of parameters in the entire model.\n",
        "5. **Trainable Params**: The number of parameters that are affected in the training process.\n",
        "6. **Non-trainable params**: Here, it is ``0``, but generally it can comprehended as the parameters that are constant and not being considered as a part of the training process. It's mostly used in ``transfer learning`` where the model is trained already and is being added new parameters, only those new ones will be trained and hence the rest are non-trainable."
      ],
      "metadata": {
        "id": "nk4vnFT-hz9o"
      }
    },
    {
      "cell_type": "code",
      "source": [
        "model_2.fit(X_train, y_train, epochs = 500, verbose = 1) #Verbose will not show the training history in the output"
      ],
      "metadata": {
        "id": "lhyagVaFkiDj"
      },
      "execution_count": null,
      "outputs": []
    },
    {
      "cell_type": "code",
      "source": [
        "y_preds = model_2.predict(X_test)\n",
        "y_preds, y_test"
      ],
      "metadata": {
        "colab": {
          "base_uri": "https://localhost:8080/"
        },
        "id": "ZnMRaOezkrPv",
        "outputId": "1780ada2-3df6-4c5d-9e60-489df5c16bcd"
      },
      "execution_count": null,
      "outputs": [
        {
          "output_type": "execute_result",
          "data": {
            "text/plain": [
              "(array([[ 6.305227 ],\n",
              "        [ 6.610689 ],\n",
              "        [ 6.916153 ],\n",
              "        [ 7.2216167],\n",
              "        [ 7.52708  ],\n",
              "        [ 7.8325434],\n",
              "        [ 8.138007 ],\n",
              "        [ 8.443471 ],\n",
              "        [ 8.748933 ],\n",
              "        [ 9.054397 ],\n",
              "        [ 9.359861 ],\n",
              "        [ 9.665326 ],\n",
              "        [ 9.970787 ],\n",
              "        [10.276254 ]], dtype=float32),\n",
              " <tf.Tensor: shape=(14,), dtype=float64, numpy=\n",
              " array([ 6.2,  6.5,  6.8,  7.1,  7.4,  7.7,  8. ,  8.3,  8.6,  8.9,  9.2,\n",
              "         9.5,  9.8, 10.1])>)"
            ]
          },
          "metadata": {},
          "execution_count": 33
        }
      ]
    },
    {
      "cell_type": "code",
      "source": [
        "plt.figure(figsize = (10,7))\n",
        "plt.scatter(X_train, y_train, c='b', label ='Training Data')\n",
        "plt.scatter(X_test, y_test, c= 'g', label = 'Testing Data')\n",
        "plt.scatter(X_test, y_preds, c= 'r', label = 'Predicted Data')\n",
        "plt.legend()"
      ],
      "metadata": {
        "colab": {
          "base_uri": "https://localhost:8080/",
          "height": 446
        },
        "id": "bsFrgxrRk_Gl",
        "outputId": "7a2e1466-e4ad-4b5e-dc90-8e422362920c"
      },
      "execution_count": null,
      "outputs": [
        {
          "output_type": "execute_result",
          "data": {
            "text/plain": [
              "<matplotlib.legend.Legend at 0x7f0f841e8710>"
            ]
          },
          "metadata": {},
          "execution_count": 36
        },
        {
          "output_type": "display_data",
          "data": {
            "text/plain": [
              "<Figure size 720x504 with 1 Axes>"
            ],
            "image/png": "[encoded data removed]"
          },
          "metadata": {
            "needs_background": "light"
          }
        }
      ]
    },
    {
      "cell_type": "markdown",
      "source": [
        "## Evaluation:\n",
        "1. **MAE** = ``tf.metrics.mean_absolute_error()``\n",
        "2. **MSE** = ``tf.metrics.mean_square_error()``\n",
        "3. **Huber** = ``tf.losses.Huber()``"
      ],
      "metadata": {
        "id": "i179gPULm3ao"
      }
    },
    {
      "cell_type": "code",
      "source": [
        "y_true = y_test\n",
        "y_pred = tf.squeeze(tf.constant(y_preds)) \n",
        "#The tensor is squeezed so that both the predicted and the orginal tensors are of the same shape if not they will result in multiple outputs.\n",
        "y_true, y_pred"
      ],
      "metadata": {
        "colab": {
          "base_uri": "https://localhost:8080/"
        },
        "id": "SZQfbgpYE_ZL",
        "outputId": "fb782580-29ba-4ba7-a917-8cfba55e88af"
      },
      "execution_count": null,
      "outputs": [
        {
          "output_type": "execute_result",
          "data": {
            "text/plain": [
              "(<tf.Tensor: shape=(14,), dtype=float64, numpy=\n",
              " array([ 6.2,  6.5,  6.8,  7.1,  7.4,  7.7,  8. ,  8.3,  8.6,  8.9,  9.2,\n",
              "         9.5,  9.8, 10.1])>, <tf.Tensor: shape=(14,), dtype=float32, numpy=\n",
              " array([ 6.305227 ,  6.610689 ,  6.916153 ,  7.2216167,  7.52708  ,\n",
              "         7.8325434,  8.138007 ,  8.443471 ,  8.748933 ,  9.054397 ,\n",
              "         9.359861 ,  9.665326 ,  9.970787 , 10.276254 ], dtype=float32)>)"
            ]
          },
          "metadata": {},
          "execution_count": 38
        }
      ]
    },
    {
      "cell_type": "code",
      "source": [
        "mae = tf.metrics.mean_absolute_error(y_true, y_pred)\n",
        "mae"
      ],
      "metadata": {
        "colab": {
          "base_uri": "https://localhost:8080/"
        },
        "id": "31kO3iOKF-3V",
        "outputId": "fb3784bb-e7d9-4ffc-c75a-d62523af6572"
      },
      "execution_count": null,
      "outputs": [
        {
          "output_type": "execute_result",
          "data": {
            "text/plain": [
              "<tf.Tensor: shape=(), dtype=float32, numpy=0.14073889>"
            ]
          },
          "metadata": {},
          "execution_count": 55
        }
      ]
    },
    {
      "cell_type": "code",
      "source": [
        "mse = tf.metrics.mean_squared_error(y_true, y_pred)\n",
        "mse"
      ],
      "metadata": {
        "colab": {
          "base_uri": "https://localhost:8080/"
        },
        "id": "fputCVlHGaYR",
        "outputId": "8bf11772-184b-4f05-e916-91742e33dca6"
      },
      "execution_count": null,
      "outputs": [
        {
          "output_type": "execute_result",
          "data": {
            "text/plain": [
              "<tf.Tensor: shape=(), dtype=float32, numpy=0.020292504>"
            ]
          },
          "metadata": {},
          "execution_count": 56
        }
      ]
    },
    {
      "cell_type": "markdown",
      "source": [
        "## Summary for the entire Regression:\n",
        "1. The basic way to implement is to have a ``Sequential Model``, where every layer is stacked one over the other.\n",
        "2. **Steps**: Build -> compile (loss, optimizer, metrics) -> fit(epochs) -> tweak.\n",
        "\n",
        "---\n",
        "\n",
        "\n",
        "3. **Remember**: Visualizing, is the key to understand how to tweak your models to further increase the models efficiency. Plot graphs, use ``model.summary()`` or ``plot_model(model)`` and use various error evaluations to comprehend which valuation is precise given the measure of the dataset.\n",
        " "
      ],
      "metadata": {
        "id": "JJJPIIhBHeGt"
      }
    },
    {
      "cell_type": "markdown",
      "source": [
        "##Saving The Model:\n",
        "There are two ways to save the model.\n",
        "1. Standard Saved format.\n",
        "2. Universal H5 format.\n",
        "\n",
        "\n",
        "---\n",
        "\n",
        "\n",
        "*   To save - ``model.save('modelName')`` or ``model.save('modelName.h5')``\n",
        "*   To Load - ``tf.keras.models.load_model('modelName')``\n",
        "\n",
        "\n"
      ],
      "metadata": {
        "id": "Sbql35hCHjui"
      }
    },
    {
      "cell_type": "code",
      "source": [
        "model_2.save('model_2')\n",
        "model_2.save('model_2_h5.h5')"
      ],
      "metadata": {
        "colab": {
          "base_uri": "https://localhost:8080/"
        },
        "id": "6u79cYVHSYBo",
        "outputId": "7cbd6d39-6a36-4792-d9fe-93611a535faa"
      },
      "execution_count": null,
      "outputs": [
        {
          "output_type": "stream",
          "name": "stdout",
          "text": [
            "INFO:tensorflow:Assets written to: model_2/assets\n"
          ]
        }
      ]
    },
    {
      "cell_type": "code",
      "source": [
        "saved_standard_model = tf.keras.models.load_model('/content/model_2')\n",
        "saved_standard_model.summary()"
      ],
      "metadata": {
        "colab": {
          "base_uri": "https://localhost:8080/"
        },
        "id": "nq3Z6Dr4S8yv",
        "outputId": "826fe8bb-2b99-42fb-8f25-20aad6ef0b2b"
      },
      "execution_count": null,
      "outputs": [
        {
          "output_type": "stream",
          "name": "stdout",
          "text": [
            "Model: \"Model_2\"\n",
            "_________________________________________________________________\n",
            " Layer (type)                Output Shape              Param #   \n",
            "=================================================================\n",
            " input_layer (Dense)         (None, 1)                 2         \n",
            "                                                                 \n",
            " dense_6 (Dense)             (None, 100)               200       \n",
            "                                                                 \n",
            " dense_7 (Dense)             (None, 100)               10100     \n",
            "                                                                 \n",
            " dense_8 (Dense)             (None, 100)               10100     \n",
            "                                                                 \n",
            " dense_9 (Dense)             (None, 100)               10100     \n",
            "                                                                 \n",
            " output_layer (Dense)        (None, 1)                 101       \n",
            "                                                                 \n",
            "=================================================================\n",
            "Total params: 30,603\n",
            "Trainable params: 30,603\n",
            "Non-trainable params: 0\n",
            "_________________________________________________________________\n"
          ]
        }
      ]
    },
    {
      "cell_type": "code",
      "source": [
        "saved_h5_model = tf.keras.models.load_model('/content/model_2_h5.h5')\n",
        "saved_h5_model.summary()"
      ],
      "metadata": {
        "colab": {
          "base_uri": "https://localhost:8080/"
        },
        "id": "vMWzlkx9Th6Q",
        "outputId": "04972678-53eb-49f3-981b-65e28c425fc3"
      },
      "execution_count": null,
      "outputs": [
        {
          "output_type": "stream",
          "name": "stdout",
          "text": [
            "Model: \"Model_2\"\n",
            "_________________________________________________________________\n",
            " Layer (type)                Output Shape              Param #   \n",
            "=================================================================\n",
            " input_layer (Dense)         (None, 1)                 2         \n",
            "                                                                 \n",
            " dense_6 (Dense)             (None, 100)               200       \n",
            "                                                                 \n",
            " dense_7 (Dense)             (None, 100)               10100     \n",
            "                                                                 \n",
            " dense_8 (Dense)             (None, 100)               10100     \n",
            "                                                                 \n",
            " dense_9 (Dense)             (None, 100)               10100     \n",
            "                                                                 \n",
            " output_layer (Dense)        (None, 1)                 101       \n",
            "                                                                 \n",
            "=================================================================\n",
            "Total params: 30,603\n",
            "Trainable params: 30,603\n",
            "Non-trainable params: 0\n",
            "_________________________________________________________________\n"
          ]
        }
      ]
    },
    {
      "cell_type": "code",
      "source": [
        "saved_standard_model.predict(X_test) == saved_h5_model.predict(X_test)"
      ],
      "metadata": {
        "colab": {
          "base_uri": "https://localhost:8080/"
        },
        "id": "caRGyzcqTvJO",
        "outputId": "ba235b32-fa7a-46a0-d9cc-4edae1a8a0c6"
      },
      "execution_count": null,
      "outputs": [
        {
          "output_type": "stream",
          "name": "stdout",
          "text": [
            "WARNING:tensorflow:5 out of the last 6 calls to <function Model.make_predict_function.<locals>.predict_function at 0x7f0f70f48680> triggered tf.function retracing. Tracing is expensive and the excessive number of tracings could be due to (1) creating @tf.function repeatedly in a loop, (2) passing tensors with different shapes, (3) passing Python objects instead of tensors. For (1), please define your @tf.function outside of the loop. For (2), @tf.function has experimental_relax_shapes=True option that relaxes argument shapes that can avoid unnecessary retracing. For (3), please refer to https://www.tensorflow.org/guide/function#controlling_retracing and https://www.tensorflow.org/api_docs/python/tf/function for  more details.\n"
          ]
        },
        {
          "output_type": "execute_result",
          "data": {
            "text/plain": [
              "array([[ True],\n",
              "       [ True],\n",
              "       [ True],\n",
              "       [ True],\n",
              "       [ True],\n",
              "       [ True],\n",
              "       [ True],\n",
              "       [ True],\n",
              "       [ True],\n",
              "       [ True],\n",
              "       [ True],\n",
              "       [ True],\n",
              "       [ True],\n",
              "       [ True]])"
            ]
          },
          "metadata": {},
          "execution_count": 65
        }
      ]
    },
    {
      "cell_type": "markdown",
      "source": [
        "## Downloading or Saving the Models\n",
        "There are three ways to do it.\n",
        "\n",
        "1. Directly downloading the files from the google colab.\n",
        "2. Use code to download the model.\n",
        "\n",
        "``from google.colab import files``\n",
        "\n",
        "``files.download('modelPath')``\n",
        "\n",
        "3. Mount the google drive to the colab and move the files to the drive.\n",
        "\n",
        "``!cp currentLocation outputLocation``"
      ],
      "metadata": {
        "id": "pDk8KXYkT8y3"
      }
    }
  ]
}